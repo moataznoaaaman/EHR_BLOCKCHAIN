{
 "cells": [
  {
   "cell_type": "code",
   "execution_count": 50,
   "metadata": {},
   "outputs": [],
   "source": [
    "import json\n",
    "from web3 import Web3, HTTPProvider\n",
    "from web3.contract import ConciseContract\n",
    "from cryptography.fernet import Fernet\n",
    "import pickle\n",
    "from datetime import datetime\n",
    "from eth_account.messages import encode_defunct"
   ]
  },
  {
   "cell_type": "markdown",
   "metadata": {},
   "source": [
    "## publishing the contract"
   ]
  },
  {
   "cell_type": "code",
   "execution_count": 304,
   "metadata": {},
   "outputs": [
    {
     "name": "stdout",
     "output_type": "stream",
     "text": [
      "True\n",
      "0x51a756edd6cedcd36365fa3eaabf58154731029d2b90d66823eb1a83647b9244\n",
      "Contract Deployed At: 0x91b463A56dDF6f31539966559121B6FD43CB748D\n"
     ]
    }
   ],
   "source": [
    "# web3.py instance\n",
    "w3 = Web3(HTTPProvider(\"HTTP://127.0.0.1:7545\"))\n",
    "print(w3.isConnected())\n",
    "\n",
    "key=\"a2f49f40901545cc550295884c15782652d2e847fdec80e4e58bde2a10c096da\"\n",
    "acct = w3.eth.account.privateKeyToAccount(key)\n",
    "\n",
    "# compile your smart contract with truffle first\n",
    "truffleFile = json.load(open(r'C:\\Users\\mo7amad mo3taz\\Desktop\\security project\\python_edition\\pythonDapp\\build\\contracts\\Greeter.json'))\n",
    "abi = truffleFile['abi']\n",
    "bytecode = truffleFile['bytecode']\n",
    "contract= w3.eth.contract(bytecode=bytecode, abi=abi)\n",
    "\n",
    "#building transaction\n",
    "construct_txn = contract.constructor().buildTransaction({\n",
    "    'from': acct.address,\n",
    "    'nonce': w3.eth.getTransactionCount(acct.address),\n",
    "    'gas': 3000000,\n",
    "    'gasPrice': w3.toWei('21', 'gwei')})\n",
    "\n",
    "signed = acct.signTransaction(construct_txn)\n",
    "\n",
    "tx_hash=w3.eth.sendRawTransaction(signed.rawTransaction)\n",
    "print(tx_hash.hex())\n",
    "tx_receipt = w3.eth.waitForTransactionReceipt(tx_hash)\n",
    "contract_address = tx_receipt['contractAddress']\n",
    "print(\"Contract Deployed At:\", tx_receipt['contractAddress'])\n"
   ]
  },
  {
   "cell_type": "markdown",
   "metadata": {},
   "source": [
    "### getting a contract instance"
   ]
  },
  {
   "cell_type": "code",
   "execution_count": 305,
   "metadata": {},
   "outputs": [
    {
     "name": "stdout",
     "output_type": "stream",
     "text": [
      "True\n",
      "Hello\n"
     ]
    }
   ],
   "source": [
    "truffleFile = json.load(open(r'C:\\Users\\mo7amad mo3taz\\Desktop\\security project\\python_edition\\pythonDapp\\build\\contracts\\Greeter.json'))\n",
    "abi = truffleFile['abi']\n",
    "bytecode = truffleFile['bytecode']\n",
    "\n",
    "w3 = Web3(HTTPProvider(\"HTTP://127.0.0.1:7545\")) #modify\n",
    "print(w3.isConnected())\n",
    "contract_address = Web3.toChecksumAddress(contract_address) #modify\n",
    "contract = w3.eth.contract(abi=abi, bytecode=bytecode)\n",
    "contract_instance = w3.eth.contract(abi=abi, address=contract_address)\n",
    "print(contract_instance.functions.greet().call())"
   ]
  },
  {
   "cell_type": "markdown",
   "metadata": {},
   "source": [
    "### defining the clinic entity"
   ]
  },
  {
   "cell_type": "code",
   "execution_count": 306,
   "metadata": {},
   "outputs": [],
   "source": [
    "def load_enc_key(enc_path):\n",
    "        with open(enc_path, \"rb\") as infile:\n",
    " \t         return pickle.load(infile)\n",
    "\n",
    "def load_count(count_path):\n",
    "        with open(count_path, \"rb\") as infile:\n",
    " \t         return pickle.load(infile)\n",
    "\n",
    "def write_count(path, count):\n",
    "        with open(path, \"wb\") as outfile:\n",
    " \t# \"wb\" argument opens the file in binary mode\n",
    "\t        pickle.dump(count, outfile)"
   ]
  },
  {
   "cell_type": "code",
   "execution_count": 287,
   "metadata": {},
   "outputs": [],
   "source": [
    "def store_count(path,count):\n",
    "    with open(path, \"wb\") as outfile:\n",
    "\t    pickle.dump(count, outfile)\n",
    "    \n",
    "def to_32byte_hex(val):\n",
    "   return Web3.toHex(Web3.toBytes(val).rjust(32, b'\\0'))"
   ]
  },
  {
   "cell_type": "code",
   "execution_count": 307,
   "metadata": {},
   "outputs": [],
   "source": [
    "class clinic:\n",
    "    def __init__ (self,clinic_num):\n",
    "        \n",
    "        if clinic_num == 0:\n",
    "            self.address = '0xA18701FcEfcB34548e3F1168018072acFceD24A3'\n",
    "            self.private_key = '69517d7170fbec9e1ca85ab44b89f1ee645d77ac05750d3e230078d1251561b2'\n",
    "            self.enc_key = load_enc_key(r'C:\\Users\\mo7amad mo3taz\\Desktop\\security project\\python_edition\\c1_enc.pickle')\n",
    "            self.count_path = r'C:\\Users\\mo7amad mo3taz\\Desktop\\security project\\python_edition\\c1_count.pickle'\n",
    "            self.patient_count = load_count(self.count_path)\n",
    "            self.v_vount_path = r'C:\\Users\\mo7amad mo3taz\\Desktop\\security project\\python_edition\\c1_v_count.pickle'\n",
    "            self.v_count = load_count(self.count_path)\n",
    "\n",
    "        elif clinic_num == 1:\n",
    "            self.address = '0x76d4fCF227AF4A6464F093566eD980Dfe7227CB8'\n",
    "            self.private_key = 'a2f49f40901545cc550295884c15782652d2e847fdec80e4e58bde2a10c096da'\n",
    "            self.enc_key = load_enc_key(r'C:\\Users\\mo7amad mo3taz\\Desktop\\security project\\python_edition\\c2_enc.pickle')\n",
    "            self.count_path = r'C:\\Users\\mo7amad mo3taz\\Desktop\\security project\\python_edition\\c2_count.pickle'\n",
    "            self.patient_count = load_count(self.count_path)\n",
    "            self.v_vount_path = r'C:\\Users\\mo7amad mo3taz\\Desktop\\security project\\python_edition\\c2_v_count.pickle'\n",
    "            self.v_count = load_count(self.count_path)\n",
    "\n",
    "        else:\n",
    "            self.address = '0x042607F7A3CeD2E6014D0B23E869EDD5471a54bc'\n",
    "            self.private_key = 'd54950b31dfe059def052b9d703703031835713540d256034e1920fa7ded6df1'\n",
    "            self.enc_key = load_enc_key(r'C:\\Users\\mo7amad mo3taz\\Desktop\\security project\\python_edition\\c3_enc.pickle')\n",
    "            self.count_path = r'C:\\Users\\mo7amad mo3taz\\Desktop\\security project\\python_edition\\c3_count.pickle'\n",
    "            self.patient_count = load_count(self.count_path)\n",
    "            self.v_vount_path = r'C:\\Users\\mo7amad mo3taz\\Desktop\\security project\\python_edition\\c3_v_count.pickle'\n",
    "            self.v_count = load_count(self.count_path)\n",
    "\n",
    "        self.encrypter_decrypter = Fernet(self.enc_key)\n",
    "        \n",
    "\n",
    "\n",
    "    def sign_packet(self, packet):\n",
    "        msgHash = Web3.keccak(text = packet)\n",
    "        msgHash = encode_defunct(msgHash)\n",
    "        signed_message = w3.eth.account.sign_message(msgHash, private_key=self.private_key)\n",
    "        print('signed_message: ',type(signed_message))\n",
    "        return (signed_message.v, to_32byte_hex(signed_message.r), to_32byte_hex(signed_message.s))\n",
    "\n",
    "    def add_new_patient(self, name, age, weight, height, sex, blood_p, pulse):\n",
    "        now = datetime.now()\n",
    "        dt_string = now.strftime(\"%d/%m/%Y %H:%M:%S\") # time_stamp\n",
    "        data = name +\" # \"+ age +\" # \"+ weight +\" # \"+ height +\" # \"+ sex +\" # \"+ blood_p +\" # \"+ pulse + \" # \" + dt_string\n",
    "        data_enc = self.encrypter_decrypter.encrypt(data.encode())\n",
    "        print('original data: ',data)\n",
    "        print()\n",
    "        print('enc data: ',data_enc)\n",
    "        print()\n",
    "        packet = str(self.patient_count)+ \"#\" + data_enc.decode('utf-8')\n",
    "        self.patient_count +=1\n",
    "        write_count(self.count_path,self.patient_count)\n",
    "        print('packet: ',packet)\n",
    "        print()\n",
    "        signed_message = self.sign_packet(packet)\n",
    "        hashed_message = Web3.keccak(text = packet)\n",
    "        print('hashed message: ',hashed_message)\n",
    "        print()\n",
    "        tx_hash = contract_instance.functions.add_patient(packet, hashed_message, signed_message[0], signed_message[1], signed_message[2]).transact({\n",
    "            'from': self.address,\n",
    "            'nonce': w3.eth.getTransactionCount(self.address),\n",
    "            'gas': 1728712,\n",
    "            'gasPrice': w3.toWei('21', 'gwei')})\n",
    "        w3.eth.waitForTransactionReceipt(tx_hash)\n",
    "        # print('response: {}'.format(\n",
    "        #     contract_instance.functions.greet().call()\n",
    "        # ))\n",
    "        print(\"success, patient id: \", self.patient_count-1)\n",
    "        print('////////////////////////////////////')\n",
    "\n",
    "    def regular_visit(self, patient_id, blood_p, pulse, reason, presc, follow_up):\n",
    "            now = datetime.now()\n",
    "            dt_string = now.strftime(\"%d/%m/%Y %H:%M:%S\") # time_stamp\n",
    "            data = blood_p +\" # \"+ pulse +\" # \"+ reason +\" # \"+ presc +\" # \"+ follow_up + \" # \" + dt_string + \" # \" + str(self.v_count)\n",
    "            data_enc = self.encrypter_decrypter.encrypt(data.encode())\n",
    "            print('original data: ',data)\n",
    "            print()\n",
    "            print('enc data: ',data_enc)\n",
    "            print()\n",
    "            packet = str(patient_id)+ \"#\" + data_enc.decode('utf-8')\n",
    "            print('packet: ',packet)\n",
    "            print()\n",
    "            signed_message = self.sign_packet(packet)\n",
    "            hashed_message = Web3.keccak(text = packet)\n",
    "            print('hashed message: ',hashed_message)\n",
    "            print()\n",
    "            tx_hash = contract_instance.functions.add_reg_visit(packet, hashed_message, signed_message[0], signed_message[1], signed_message[2]).transact({\n",
    "                'from': self.address,\n",
    "                'nonce': w3.eth.getTransactionCount(self.address),\n",
    "                'gas': 1728712,\n",
    "                'gasPrice': w3.toWei('21', 'gwei')})\n",
    "            w3.eth.waitForTransactionReceipt(tx_hash)\n",
    "            # print('response: {}'.format(\n",
    "            # contract_instance.functions.greet().call()\n",
    "            # ))\n",
    "            print('////////////////////////////////////')\n",
    "            self.v_count+=1\n",
    "            write_count(self.v_vount_path,self.v_count)\n",
    "\n",
    "    def lab_visit(self, patient_id, blood_p, pulse, lab_test_typr, lab_test_result):\n",
    "        now = datetime.now()\n",
    "        dt_string = now.strftime(\"%d/%m/%Y %H:%M:%S\") # time_stamp\n",
    "        data = blood_p +\" # \"+ pulse +\" # \"+ lab_test_typr +\" # \"+ lab_test_result + \" # \" + dt_string + \" # \" + str(self.v_count)\n",
    "        data_enc = self.encrypter_decrypter.encrypt(data.encode())\n",
    "        print('original data: ',data)\n",
    "        print()\n",
    "        print('enc data: ',data_enc)\n",
    "        print()\n",
    "        packet = str(patient_id)+ \"#\" +data_enc.decode('utf-8')\n",
    "        print('packet: ',packet)\n",
    "        print()\n",
    "        signed_message = self.sign_packet(packet)\n",
    "        hashed_message = Web3.keccak(text = packet)\n",
    "        print('hashed message: ',hashed_message)\n",
    "        print()\n",
    "        tx_hash = contract_instance.functions.add_lab_visit(packet, hashed_message, signed_message[0], signed_message[1], signed_message[2]).transact({\n",
    "            'from': self.address,\n",
    "            'nonce': w3.eth.getTransactionCount(self.address),\n",
    "            'gas': 1728712,\n",
    "            'gasPrice': w3.toWei('21', 'gwei')})\n",
    "        w3.eth.waitForTransactionReceipt(tx_hash)\n",
    "        # print('response: {}'.format(\n",
    "        #     contract_instance.functions.greet().call()\n",
    "        # ))\n",
    "        print('////////////////////////////////////')\n",
    "        self.v_count+=1\n",
    "        write_count(self.v_vount_path,self.v_count)\n",
    "\n",
    "    def view_records(self, patient_id):\n",
    "        \n",
    "        packet = patient_id\n",
    "        print('packet: ',packet)\n",
    "        print()\n",
    "        signed_message = self.sign_packet(packet)\n",
    "        print('signed message: ', signed_message)\n",
    "        print()\n",
    "        hashed_message = Web3.keccak(text = packet)\n",
    "        print('hashed message: ',hashed_message)\n",
    "        print()\n",
    "        tx_hash = contract_instance.functions.define_records(packet, hashed_message, signed_message[0], signed_message[1], signed_message[2]).transact({\n",
    "            'from': self.address,\n",
    "            'nonce': w3.eth.getTransactionCount(self.address),\n",
    "            'gas': 1728712,\n",
    "            'gasPrice': w3.toWei('21', 'gwei')})\n",
    "        w3.eth.waitForTransactionReceipt(tx_hash)\n",
    "        all_records = contract_instance.functions.retrive_records().call()\n",
    "        result = []\n",
    "        for record in all_records:\n",
    "            hed_dat = record.split(\"#\")\n",
    "            # print(hed_dat)\n",
    "            if hed_dat[0] == patient_id:\n",
    "                decrypted = self.encrypter_decrypter.decrypt(hed_dat[1].encode('utf-8'))\n",
    "                result.append(decrypted.decode())\n",
    "        print('records')\n",
    "        print(result)\n"
   ]
  },
  {
   "cell_type": "code",
   "execution_count": 308,
   "metadata": {},
   "outputs": [
    {
     "name": "stdout",
     "output_type": "stream",
     "text": [
      "original data:  pat1 # 20 # 150 kg # 100 cm # M # 110 pb # 200 gh # 06/06/2022 21:58:53\n",
      "\n",
      "enc data:  b'gAAAAABinlx9QgZnfaltrQS12civNexZfUaBAd44h5XAb-YNPYgvPKynYDVS13hZFTIru-HBTsjfNit8pxVpJuVF_215LWEKyQbiXYm4CLpqwGvC_ZNYIz9JFGvO0gq842-kR7YSMPY8rxBNUFBAd0g9vjNlYghHvn9o8JznCw7qd3jeN4iIcp4='\n",
      "\n",
      "packet:  0#gAAAAABinlx9QgZnfaltrQS12civNexZfUaBAd44h5XAb-YNPYgvPKynYDVS13hZFTIru-HBTsjfNit8pxVpJuVF_215LWEKyQbiXYm4CLpqwGvC_ZNYIz9JFGvO0gq842-kR7YSMPY8rxBNUFBAd0g9vjNlYghHvn9o8JznCw7qd3jeN4iIcp4=\n",
      "\n",
      "signed_message:  <class 'eth_account.datastructures.SignedMessage'>\n",
      "hashed message:  b'D\\xd6\\xd5\\xd6r\\xd5|\\xacM\\xb9>\\xaf\\xf1\\x89r~\\xa8\\x8c(\\xe7\\xc4q\\x13w\\x02ys\\xca\\xae\\xa1P\\x08'\n",
      "\n",
      "success, patient id:  0\n",
      "////////////////////////////////////\n",
      "original data:  pat2 # 21 # 140 kg # 110 cm # f # 110 pb # 200 gh # 06/06/2022 21:58:54\n",
      "\n",
      "enc data:  b'gAAAAABinlx-rA1GAj0FSBBg4MXILBIjreHu3z0aSuKA3pBAdD25xs9sO2k16j8SB-Aommq3OCXDisv9olajJwLJqSz_B6ljVE8md3uQ-r5e-jC2l0yoZtrUc76PYyEyKvox-b29o2LsFpJK0WB6EF-beeIuKEe1ZVfa7aN_eSXR9TOU0QeMue4='\n",
      "\n",
      "packet:  1#gAAAAABinlx-rA1GAj0FSBBg4MXILBIjreHu3z0aSuKA3pBAdD25xs9sO2k16j8SB-Aommq3OCXDisv9olajJwLJqSz_B6ljVE8md3uQ-r5e-jC2l0yoZtrUc76PYyEyKvox-b29o2LsFpJK0WB6EF-beeIuKEe1ZVfa7aN_eSXR9TOU0QeMue4=\n",
      "\n",
      "signed_message:  <class 'eth_account.datastructures.SignedMessage'>\n",
      "hashed message:  b'\\x93\\xc0\\x93fMM\\x9b\\xd5\\xa1by\\xd4\\xb5I\\xbc\\xd9~<\\xc9\\x97\\xd5\\x9b\\xe6y8\\x831\\x03\\xd4\\xa8 ('\n",
      "\n",
      "success, patient id:  1\n",
      "////////////////////////////////////\n",
      "original data:  pat3 # 22 # 130 kg # 120 cm # f # 110 pb # 200 gh # 06/06/2022 21:58:55\n",
      "\n",
      "enc data:  b'gAAAAABinlx_tDWbpjYNWQAb1GjbKZWGG3XzF691z54KDDywHwm3mrzxoPpPW8jUM8aekeXxgyNzoQzATDi0hiRqd0eCm7zUXavCMiD-mU5_ASi9r1-6Ysptpq30P83OgktYB9y4oPR0MMRphW8B8JmiCdMT9XZei4jlPysK5rzKYe0O7-Yuw60='\n",
      "\n",
      "packet:  2#gAAAAABinlx_tDWbpjYNWQAb1GjbKZWGG3XzF691z54KDDywHwm3mrzxoPpPW8jUM8aekeXxgyNzoQzATDi0hiRqd0eCm7zUXavCMiD-mU5_ASi9r1-6Ysptpq30P83OgktYB9y4oPR0MMRphW8B8JmiCdMT9XZei4jlPysK5rzKYe0O7-Yuw60=\n",
      "\n",
      "signed_message:  <class 'eth_account.datastructures.SignedMessage'>\n",
      "hashed message:  b'\\xc0#SQ\\xf3a\\x10E\\xbd\\xf8Y\\xa8\\xb3\\xaa\\x12\\x8d)\\xb7S\\x84\\xec\\xaf\\xa8B\\x0c\\xbd)\\x87\\x1d[\\xf9\\x8a'\n",
      "\n",
      "success, patient id:  2\n",
      "////////////////////////////////////\n"
     ]
    }
   ],
   "source": [
    "c1 = clinic(2)\n",
    "c1.add_new_patient('pat1', '20', '150 kg', '100 cm', 'M', '110 pb', '200 gh')\n",
    "c1.add_new_patient('pat2', '21', '140 kg', '110 cm', 'f', '110 pb', '200 gh')\n",
    "c1.add_new_patient('pat3', '22', '130 kg', '120 cm', 'f', '110 pb', '200 gh')\n",
    "# c1.view_records('6')\n",
    "# c1.lab_visit('1', '1', '1', '1', '1')"
   ]
  },
  {
   "cell_type": "code",
   "execution_count": 312,
   "metadata": {},
   "outputs": [
    {
     "name": "stdout",
     "output_type": "stream",
     "text": [
      "packet:  0\n",
      "\n",
      "signed_message:  <class 'eth_account.datastructures.SignedMessage'>\n",
      "signed message:  (28, '0xb86b6664dec422a18fade9d9195799b87e5666b2d70db3d19a087e331700bdb0', '0x6fd1a502b9f07aba7b3915128e7bd3e579c2cac67ef05de648dc63a5fa14c3ab')\n",
      "\n",
      "hashed message:  b'\\x04HR\\xb2\\xa6p\\xad\\xe5@~x\\xfb(c\\xc5\\x1d\\xe9\\xfc\\xb9eB\\xa0q\\x86\\xfe:\\xed\\xa6\\xbb\\x8a\\x11m'\n",
      "\n",
      "records\n",
      "['pat1 # 20 # 150 kg # 100 cm # M # 110 pb # 200 gh # 06/06/2022 21:58:53', '1 # 1 # 1 # 1 # 1 # 06/06/2022 21:59:41 # 0', '1 # 1 # 1 # 1 # 1 # 06/06/2022 22:00:46 # 1']\n"
     ]
    }
   ],
   "source": [
    "c1.view_records('0')"
   ]
  },
  {
   "cell_type": "code",
   "execution_count": 311,
   "metadata": {},
   "outputs": [
    {
     "name": "stdout",
     "output_type": "stream",
     "text": [
      "original data:  1 # 1 # 1 # 1 # 1 # 06/06/2022 22:00:46 # 1\n",
      "\n",
      "enc data:  b'gAAAAABinlzu6T725VTiRtadXlQaZ32ld5tvrRPNhBTxrB54E1D4fzMg5ZGvMfno-PDUvrcl5uViblX4fbXgbuKtOGCkfkwId5Cc_u0z5Vykvy5ofDesmsVKMrGuV9QTQMkecXmado6c'\n",
      "\n",
      "packet:  0#gAAAAABinlzu6T725VTiRtadXlQaZ32ld5tvrRPNhBTxrB54E1D4fzMg5ZGvMfno-PDUvrcl5uViblX4fbXgbuKtOGCkfkwId5Cc_u0z5Vykvy5ofDesmsVKMrGuV9QTQMkecXmado6c\n",
      "\n",
      "signed_message:  <class 'eth_account.datastructures.SignedMessage'>\n",
      "hashed message:  b'\\x0c\\x19\\xac.w10\\xff+\\x01\\xb4\\xfb\\x0f\\x1d[\\xb8\\xfc\\x82\\xc6\\xb4\\xe8\\xe6\\x87\\xf8\\xca\\xc7h2\\x8e7\\xee\\x1e'\n",
      "\n",
      "////////////////////////////////////\n"
     ]
    }
   ],
   "source": [
    "c1.regular_visit('0', '1', '1', '1', '1', '1')"
   ]
  }
 ],
 "metadata": {
  "interpreter": {
   "hash": "63fd5069d213b44bf678585dea6b12cceca9941eaf7f819626cde1f2670de90d"
  },
  "kernelspec": {
   "display_name": "Python 3.9.2 64-bit",
   "language": "python",
   "name": "python3"
  },
  "language_info": {
   "codemirror_mode": {
    "name": "ipython",
    "version": 3
   },
   "file_extension": ".py",
   "mimetype": "text/x-python",
   "name": "python",
   "nbconvert_exporter": "python",
   "pygments_lexer": "ipython3",
   "version": "3.9.7"
  },
  "orig_nbformat": 4
 },
 "nbformat": 4,
 "nbformat_minor": 2
}
