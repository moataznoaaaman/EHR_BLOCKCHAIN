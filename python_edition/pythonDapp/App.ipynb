{
 "cells": [
  {
   "cell_type": "code",
   "execution_count": 1,
   "metadata": {},
   "outputs": [],
   "source": [
    "import json\n",
    "from web3 import Web3, HTTPProvider\n",
    "from web3.contract import ConciseContract\n",
    "from cryptography.fernet import Fernet\n",
    "import pickle\n",
    "from datetime import datetime\n",
    "from eth_account.messages import encode_defunct\n",
    "import threading\n",
    "import reset"
   ]
  },
  {
   "cell_type": "markdown",
   "metadata": {},
   "source": [
    "## publishing the contract"
   ]
  },
  {
   "cell_type": "markdown",
   "metadata": {},
   "source": [
    "modify the key variable in the next cell by changing the value to the private key of any of ganache accounts"
   ]
  },
  {
   "cell_type": "code",
   "execution_count": 31,
   "metadata": {},
   "outputs": [
    {
     "name": "stdout",
     "output_type": "stream",
     "text": [
      "True\n",
      "0x96cf0761da55b16d95f725a0978ae2dbd691bf118010e818eceed9496acd9bea\n",
      "Contract Deployed At: 0x3C509194E5Ce7ee4ad2AaED62A3b2963628FB52d\n"
     ]
    }
   ],
   "source": [
    "reset.reseto()\n",
    "# web3.py instance\n",
    "w3 = Web3(HTTPProvider(\"HTTP://127.0.0.1:7545\"))\n",
    "print(w3.isConnected())\n",
    "key=\"0a6dfb6cadf1bffe144eb1d8c5d96776c454f8da35a4dfc5b95a30f278c8ee96\" # modify\n",
    "acct = w3.eth.account.privateKeyToAccount(key)\n",
    "\n",
    "# compile your smart contract with truffle first\n",
    "truffleFile = json.load(open(r'C:\\Users\\mo7amad mo3taz\\Desktop\\security project\\python_edition\\pythonDapp\\build\\contracts\\Greeter.json'))\n",
    "abi = truffleFile['abi']\n",
    "bytecode = truffleFile['bytecode']\n",
    "contract= w3.eth.contract(bytecode=bytecode, abi=abi)\n",
    "\n",
    "#building transaction\n",
    "construct_txn = contract.constructor().buildTransaction({\n",
    "    'from': acct.address,\n",
    "    'nonce': w3.eth.getTransactionCount(acct.address),\n",
    "    'gas': 3000000,\n",
    "    'gasPrice': w3.toWei('21', 'gwei')})\n",
    "\n",
    "signed = acct.signTransaction(construct_txn)\n",
    "\n",
    "tx_hash=w3.eth.sendRawTransaction(signed.rawTransaction)\n",
    "print(tx_hash.hex())\n",
    "tx_receipt = w3.eth.waitForTransactionReceipt(tx_hash)\n",
    "contract_address = tx_receipt['contractAddress']\n",
    "print(\"Contract Deployed At:\", tx_receipt['contractAddress'])\n"
   ]
  },
  {
   "cell_type": "markdown",
   "metadata": {},
   "source": [
    "### getting a contract instance"
   ]
  },
  {
   "cell_type": "code",
   "execution_count": 32,
   "metadata": {},
   "outputs": [
    {
     "name": "stdout",
     "output_type": "stream",
     "text": [
      "True\n",
      "Hello\n"
     ]
    }
   ],
   "source": [
    "truffleFile = json.load(open(r'C:\\Users\\mo7amad mo3taz\\Desktop\\security project\\python_edition\\pythonDapp\\build\\contracts\\Greeter.json'))\n",
    "abi = truffleFile['abi']\n",
    "bytecode = truffleFile['bytecode']\n",
    "\n",
    "w3 = Web3(HTTPProvider(\"HTTP://127.0.0.1:7545\")) #modify\n",
    "print(w3.isConnected())\n",
    "contract_address = Web3.toChecksumAddress(contract_address) \n",
    "contract = w3.eth.contract(abi=abi, bytecode=bytecode)\n",
    "contract_instance = w3.eth.contract(abi=abi, address=contract_address)\n",
    "print(contract_instance.functions.greet().call())"
   ]
  },
  {
   "cell_type": "markdown",
   "metadata": {},
   "source": [
    "### defining the clinic entity"
   ]
  },
  {
   "cell_type": "markdown",
   "metadata": {},
   "source": [
    "these functions are used for maintaining the visits and patients numbers"
   ]
  },
  {
   "cell_type": "code",
   "execution_count": 33,
   "metadata": {},
   "outputs": [],
   "source": [
    "def load_enc_key(enc_path):\n",
    "        with open(enc_path, \"rb\") as infile:\n",
    " \t         return pickle.load(infile)\n",
    "\n",
    "def load_count(count_path):\n",
    "        with open(count_path, \"rb\") as infile:\n",
    " \t         return pickle.load(infile)\n",
    "\n",
    "def write_count(path, count):\n",
    "        with open(path, \"wb\") as outfile:\n",
    " \t# \"wb\" argument opens the file in binary mode\n",
    "\t        pickle.dump(count, outfile)"
   ]
  },
  {
   "cell_type": "code",
   "execution_count": 34,
   "metadata": {},
   "outputs": [],
   "source": [
    "def store_count(path,count):\n",
    "    with open(path, \"wb\") as outfile:\n",
    "\t    pickle.dump(count, outfile)\n",
    "    \n",
    "def to_32byte_hex(val):\n",
    "   return Web3.toHex(Web3.toBytes(val).rjust(32, b'\\0'))"
   ]
  },
  {
   "cell_type": "markdown",
   "metadata": {},
   "source": [
    " since there is no way to retrive the private keys of the ganache accounts in python or solidity, the values of the address and the private key of each clinic\n",
    " has to be hardcoded each time we set ganache so after setting ganache in your device modify the addresses and the private keys for each clinic in python and modify the the respective\n",
    " address for the clinics in solidity smart contract(Greeter.sol)."
   ]
  },
  {
   "cell_type": "code",
   "execution_count": 35,
   "metadata": {},
   "outputs": [],
   "source": [
    "class clinic:\n",
    "    def __init__ (self,clinic_num):\n",
    "        \n",
    "        if clinic_num == 0:\n",
    "            self.address = '0xB00B6600F7FF04DFfC91be88342E17C220fC9E5A' # modify to account1 address in ganache\n",
    "            self.private_key = '456995b56a759c05faf278757e63f0e01184b57a788885ce127f38330fff9030'# modify to account1 private key in ganache\n",
    "            self.enc_key = load_enc_key(r'C:\\Users\\mo7amad mo3taz\\Desktop\\security project\\python_edition\\pythonDapp\\c1_enc.pickle')\n",
    "            self.count_path = r'C:\\Users\\mo7amad mo3taz\\Desktop\\security project\\python_edition\\pythonDapp\\c1_count.pickle'\n",
    "            self.patient_count = load_count(self.count_path)\n",
    "            self.v_vount_path = r'C:\\Users\\mo7amad mo3taz\\Desktop\\security project\\python_edition\\pythonDapp\\c1_v_count.pickle'\n",
    "            self.v_count = load_count(self.count_path)\n",
    "\n",
    "        elif clinic_num == 1:\n",
    "            self.address = '0xCC6441c647fb77d1686F3528AFf788E39201d283'# modify to account2 address in ganache\n",
    "            self.private_key = 'c0d899c2290cb556a0a4eccef33c235e95be99057326afcbcdc09d3dfb4782ff'# modify to account1 private key in ganache\n",
    "            self.enc_key = load_enc_key(r'C:\\Users\\mo7amad mo3taz\\Desktop\\security project\\python_edition\\pythonDapp\\c2_enc.pickle')\n",
    "            self.count_path = r'C:\\Users\\mo7amad mo3taz\\Desktop\\security project\\python_edition\\pythonDapp\\c2_count.pickle'\n",
    "            self.patient_count = load_count(self.count_path)\n",
    "            self.v_vount_path = r'C:\\Users\\mo7amad mo3taz\\Desktop\\security project\\python_edition\\pythonDapp\\c2_v_count.pickle'\n",
    "            self.v_count = load_count(self.count_path)\n",
    "\n",
    "        else:\n",
    "            self.address = '0xBCCD9d91b8D9Ff6D5bE20b7cDCbF36E0bE1fEcEB'# modify to account3 address in ganache\n",
    "            self.private_key = 'cf00fa1e41d9d259938ccf06f86ed40942dad8f1637c3f2b23e417c3efe952e2'# modify to account1 private key in ganache\n",
    "            self.enc_key = load_enc_key(r'C:\\Users\\mo7amad mo3taz\\Desktop\\security project\\python_edition\\pythonDapp\\c3_enc.pickle')\n",
    "            self.count_path = r'C:\\Users\\mo7amad mo3taz\\Desktop\\security project\\python_edition\\pythonDapp\\c3_count.pickle'\n",
    "            self.patient_count = load_count(self.count_path)\n",
    "            self.v_vount_path = r'C:\\Users\\mo7amad mo3taz\\Desktop\\security project\\python_edition\\pythonDapp\\c3_v_count.pickle'\n",
    "            self.v_count = load_count(self.count_path)\n",
    "\n",
    "        self.encrypter_decrypter = Fernet(self.enc_key)\n",
    "        self.signing_key = self.private_key\n",
    "\n",
    "    def set_signing_key(self, key):\n",
    "        self.signing_key = key\n",
    "    def sign_packet(self, packet):\n",
    "        msgHash = Web3.keccak(text = packet)\n",
    "        msgHash = encode_defunct(msgHash)\n",
    "        signed_message = w3.eth.account.sign_message(msgHash, private_key=self.signing_key)\n",
    "        # print('signed_message: ',type(signed_message))\n",
    "        return (signed_message.v, to_32byte_hex(signed_message.r), to_32byte_hex(signed_message.s))\n",
    "\n",
    "    def add_new_patient(self, name, age, weight, height, sex, blood_p, pulse):\n",
    "        now = datetime.now()\n",
    "        dt_string = now.strftime(\"%d/%m/%Y %H:%M:%S\") # time_stamp\n",
    "        data = name +\" # \"+ age +\" # \"+ weight +\" # \"+ height +\" # \"+ sex +\" # \"+ blood_p +\" # \"+ pulse + \" # \" + dt_string + \" # \" + \"patient registeration\"\n",
    "        data_enc = self.encrypter_decrypter.encrypt(data.encode())\n",
    "        packet = str(self.patient_count)+ \"#\" + data_enc.decode('utf-8')\n",
    "        self.patient_count +=1\n",
    "        write_count(self.count_path,self.patient_count)\n",
    "        signed_message = self.sign_packet(packet)\n",
    "        # FOR integerity checking try to replace the send message with any other string\n",
    "        tx_hash = contract_instance.functions.add_patient(packet, signed_message[0], signed_message[1], signed_message[2]).transact({\n",
    "            'from': self.address,\n",
    "            'nonce': w3.eth.getTransactionCount(self.address),\n",
    "            'gas': 1728712,\n",
    "            'gasPrice': w3.toWei('21', 'gwei')})\n",
    "        w3.eth.waitForTransactionReceipt(tx_hash)\n",
    "        print('original data: ',data)\n",
    "        print()\n",
    "        print('enc data: ',data_enc)\n",
    "        print()\n",
    "        print('packet: ',packet)\n",
    "        print()\n",
    "        print(\"success, patient id: \", self.patient_count-1)\n",
    "        print('////////////////////////////////////')\n",
    "\n",
    "    def regular_visit(self, patient_id, blood_p, pulse, reason, presc, follow_up):\n",
    "            now = datetime.now()\n",
    "            dt_string = now.strftime(\"%d/%m/%Y %H:%M:%S\") # time_stamp\n",
    "            data = blood_p +\" # \"+ pulse +\" # \"+ reason +\" # \"+ presc +\" # \"+ follow_up + \" # \" + dt_string + \" # \" +  'visit number: ' +str(self.v_count) + \" # \" + \"visit type: regular visit\"\n",
    "            data_enc = self.encrypter_decrypter.encrypt(data.encode())\n",
    "            packet = str(patient_id)+ \"#\" + data_enc.decode('utf-8')\n",
    "            signed_message = self.sign_packet(packet)\n",
    "            # hashed_message = Web3.keccak(text = packet)\n",
    "            tx_hash = contract_instance.functions.add_reg_visit(packet, signed_message[0], signed_message[1], signed_message[2]).transact({\n",
    "                'from': self.address,\n",
    "                'nonce': w3.eth.getTransactionCount(self.address),\n",
    "                'gas': 1728712,\n",
    "                'gasPrice': w3.toWei('21', 'gwei')})\n",
    "            w3.eth.waitForTransactionReceipt(tx_hash)\n",
    "            # print('response: {}'.format(\n",
    "            # contract_instance.functions.greet().call()\n",
    "            # ))\n",
    "            print('original data: ',data)\n",
    "            print()\n",
    "            print('enc data: ',data_enc)\n",
    "            print()\n",
    "            print('packet: ',packet)\n",
    "            print()\n",
    "            print('////////////////////////////////////')\n",
    "            self.v_count+=1\n",
    "            write_count(self.v_vount_path,self.v_count)\n",
    "\n",
    "    def lab_visit(self, patient_id, blood_p, pulse, lab_test_typr, lab_test_result):\n",
    "        now = datetime.now()\n",
    "        dt_string = now.strftime(\"%d/%m/%Y %H:%M:%S\") # time_stamp\n",
    "        data = blood_p +\" # \"+ pulse +\" # \"+ lab_test_typr +\" # \"+ lab_test_result + \" # \" + dt_string + \" # \" + 'visit number: ' + str(self.v_count) + \" # \" + \"visit type: lab visit\"\n",
    "        data_enc = self.encrypter_decrypter.encrypt(data.encode())\n",
    "        packet = str(patient_id)+ \"#\" +data_enc.decode('utf-8')\n",
    "        signed_message = self.sign_packet(packet)\n",
    "        tx_hash = contract_instance.functions.add_lab_visit(packet, signed_message[0], signed_message[1], signed_message[2]).transact({\n",
    "            'from': self.address,\n",
    "            'nonce': w3.eth.getTransactionCount(self.address),\n",
    "            'gas': 1728712,\n",
    "            'gasPrice': w3.toWei('21', 'gwei')})\n",
    "        w3.eth.waitForTransactionReceipt(tx_hash)\n",
    "        # print('response: {}'.format(\n",
    "        #     contract_instance.functions.greet().call()\n",
    "        # ))\n",
    "        print('original data: ',data)\n",
    "        print()\n",
    "        print('enc data: ',data_enc)\n",
    "        print()\n",
    "        print('packet: ',packet)\n",
    "        print()\n",
    "        print('////////////////////////////////////')\n",
    "        self.v_count+=1\n",
    "        write_count(self.v_vount_path,self.v_count)\n",
    "\n",
    "    def view_records(self, patient_id):\n",
    "        \n",
    "        packet = patient_id\n",
    "        print('packet: ',packet)\n",
    "        print()\n",
    "        signed_message = self.sign_packet(packet)\n",
    "        print('signed message: ', signed_message)\n",
    "        print()\n",
    "        hashed_message = Web3.keccak(text = packet)\n",
    "        print('hashed message: ',hashed_message)\n",
    "        print()\n",
    "        tx_hash = contract_instance.functions.define_records(packet, signed_message[0], signed_message[1], signed_message[2]).transact({\n",
    "            'from': self.address,\n",
    "            'nonce': w3.eth.getTransactionCount(self.address),\n",
    "            'gas': 1728712,\n",
    "            'gasPrice': w3.toWei('21', 'gwei')})\n",
    "        w3.eth.waitForTransactionReceipt(tx_hash)\n",
    "        all_records = contract_instance.functions.retrive_records().call()\n",
    "        print('records')\n",
    "        for record in all_records:\n",
    "            hed_dat = record.split(\"#\")\n",
    "            # print(hed_dat)\n",
    "            if hed_dat[0] == patient_id:\n",
    "                decrypted = self.encrypter_decrypter.decrypt(hed_dat[1].encode('utf-8'))\n",
    "                print(decrypted.decode())\n",
    "        \n",
    "        \n",
    "\n",
    "    def eval_view_all_records(self):\n",
    "        all_records = contract_instance.functions.retrive_records1().call()\n",
    "        print('clinic1 records:')\n",
    "        for record in all_records:\n",
    "            print(record)\n",
    "            print()\n",
    "        print()\n",
    "        all_records = contract_instance.functions.retrive_records2().call()\n",
    "        print('clinic2 records:')\n",
    "        for record in all_records:\n",
    "            print(record)\n",
    "            print()\n",
    "        print()\n",
    "        all_records = contract_instance.functions.retrive_records3().call()\n",
    "        print('clinic3 records:')\n",
    "        for record in all_records:\n",
    "            print(record)\n",
    "            print()\n",
    "\n",
    "    def eval2_conf_check(self, decryption_key):\n",
    "        all_records = contract_instance.functions.retrive_records2().call()\n",
    "        decryptor = Fernet(decryption_key)\n",
    "        print('records')\n",
    "        print(len(all_records))\n",
    "        for record in all_records:\n",
    "            hed_dat = record.split(\"#\")\n",
    "            # print(hed_dat)\n",
    "            decrypted = decryptor.decrypt(hed_dat[1].encode('utf-8'))\n",
    "            print(decrypted.decode())\n",
    "        \n",
    "                \n",
    "        \n"
   ]
  },
  {
   "cell_type": "code",
   "execution_count": 20,
   "metadata": {},
   "outputs": [],
   "source": [
    "def simulate_clinic1():\n",
    "    ## clinic1\n",
    "    clinic1 = clinic(0)\n",
    "    clinic1.add_new_patient('name: pat01', 'age: 20', 'weight: 150 kg', 'height: 100 cm', 'sex: M', 'blood_preasure: 110 pb', 'pulse: 200 gh') #0\n",
    "    clinic1.regular_visit('0','blood_preasure: 55/120', 'pulse: 333', 'diagnoses: sick', 'medication: panadol', 'follow up: non')\n",
    "    clinic1.lab_visit('0','blood_preasure: 55/80', 'pulse: 333', 'test: pcr', 'result: negative' )\n",
    "    clinic1.add_new_patient('name: pat02', 'age: 22', 'weight: 150 kg', 'height: 200 cm', 'sex: f', 'blood_preasure: 118 pb', 'pulse: 300 gh') #0\n",
    "    clinic1.regular_visit('1','blood_preasure: 100/120', 'pulse: 444', 'diagnoses: very sick', 'medication: 2 panadol', 'follow up: yes')\n",
    "    clinic1.lab_visit('1','blood_preasure: 70/90', 'pulse: 555', 'test: pcr', 'result: positive' )"
   ]
  },
  {
   "cell_type": "code",
   "execution_count": 21,
   "metadata": {},
   "outputs": [],
   "source": [
    "def simulate_clinic2():\n",
    "    ## clinic2\n",
    "    clinic2 = clinic(1)\n",
    "    clinic2.add_new_patient('name: pat11', 'age: 20', 'weight: 150 kg', 'height: 100 cm', 'sex: M', 'blood_preasure: 110 pb', 'pulse: 200 gh') #0\n",
    "    clinic2.regular_visit('0','blood_preasure: 55/120', 'pulse: 333', 'diagnoses: sick', 'medication: panadol', 'follow up: non')\n",
    "    clinic2.lab_visit('0','blood_preasure: 55/80', 'pulse: 333', 'test: pcr', 'result: negative' )\n",
    "    clinic2.add_new_patient('name: pat12', 'age: 22', 'weight: 150 kg', 'height: 200 cm', 'sex: f', 'blood_preasure: 118 pb', 'pulse: 300 gh') #0\n",
    "    clinic2.regular_visit('1','blood_preasure: 100/120', 'pulse: 444', 'diagnoses: very sick', 'medication: 2 panadol', 'follow up: yes')\n",
    "    clinic2.lab_visit('1','blood_preasure: 70/90', 'pulse: 555', 'test: pcr', 'result: positive' )"
   ]
  },
  {
   "cell_type": "code",
   "execution_count": 22,
   "metadata": {},
   "outputs": [],
   "source": [
    "def simulate_clinic3():\n",
    "    ## clinic3\n",
    "    clinic3 = clinic(2)\n",
    "    clinic3.add_new_patient('name: pat21', 'age: 20', 'weight: 150 kg', 'height: 100 cm', 'sex: M', 'blood_preasure: 110 pb', 'pulse: 200 gh') #0\n",
    "    clinic3.regular_visit('0','blood_preasure: 55/120', 'pulse: 333', 'diagnoses: sick', 'medication: panadol', 'follow up: non')\n",
    "    clinic3.lab_visit('0','blood_preasure: 55/80', 'pulse: 333', 'test: pcr', 'result: negative' )\n",
    "    clinic3.add_new_patient('name: pat22', 'age: 22', 'weight: 150 kg', 'height: 200 cm', 'sex: f', 'blood_preasure: 118 pb', 'pulse: 300 gh') #0\n",
    "    clinic3.regular_visit('1','blood_preasure: 100/120', 'pulse: 444', 'diagnoses: very sick', 'medication: 2 panadol', 'follow up: yes')\n",
    "    clinic3.lab_visit('1','blood_preasure: 70/90', 'pulse: 555', 'test: pcr', 'result: positive' )"
   ]
  },
  {
   "cell_type": "markdown",
   "metadata": {},
   "source": [
    "### simulating multiple clinics simutaniously "
   ]
  },
  {
   "cell_type": "code",
   "execution_count": 47,
   "metadata": {},
   "outputs": [
    {
     "name": "stdout",
     "output_type": "stream",
     "text": [
      "original data:  name: pat21 # age: 20 # weight: 150 kg # height: 100 cm # sex: M # blood_preasure: 110 pb # pulse: 200 gh # 13/06/2022 22:56:23 # patient registeration\n",
      "\n",
      "enc data:  b'gAAAAABip6R3UqHvFq4dTWrJkG37hmPgY3fyGl2MSWArpzQy0U3Fl5EjCSndLDTZYpTg4RsYDqB774l3Y2j93LS3U5Y2_uIrX5H9mLQS75dgCDYm643cNNRvurEYO68oRsYunWFtx3wd_7j_5gigNYYflnInH_U_SJXE99j4DcW12_TcCFRkWxQ9XpOAZlf9qTyTVIQKNzp6VE4oWM9FG9O9e-mNSbZP8KqP71LRyarNqQ4O8h7rRRR6mkhEygKKTxKfXL0IRDMl4uIhLetNpBJbd6_LBw43fQ=='\n",
      "\n",
      "packet:  2#gAAAAABip6R3UqHvFq4dTWrJkG37hmPgY3fyGl2MSWArpzQy0U3Fl5EjCSndLDTZYpTg4RsYDqB774l3Y2j93LS3U5Y2_uIrX5H9mLQS75dgCDYm643cNNRvurEYO68oRsYunWFtx3wd_7j_5gigNYYflnInH_U_SJXE99j4DcW12_TcCFRkWxQ9XpOAZlf9qTyTVIQKNzp6VE4oWM9FG9O9e-mNSbZP8KqP71LRyarNqQ4O8h7rRRR6mkhEygKKTxKfXL0IRDMl4uIhLetNpBJbd6_LBw43fQ==\n",
      "\n",
      "success, patient id:  2\n",
      "////////////////////////////////////\n",
      "original data:  name: pat11 # age: 20 # weight: 150 kg # height: 100 cm # sex: M # blood_preasure: 110 pb # pulse: 200 gh # 13/06/2022 22:56:23 # patient registeration\n",
      "\n",
      "enc data:  b'gAAAAABip6R354dWiOM4tlPeG6UCJktS7rUaCuBqIvoto5fAF8VrbNwZf7HyhCjiwGtitls-yPzh8hq8XzroecUdx80UiFxfnoXTuA6_U6yZHVluDUQFuDlF4Yp11tkHSGOyhkYDygxh6Iv-5tqIbw2X64NfekKAKAIBXV8PbCkpVKMYSeprw3cgqhvLNKDIHpN61pvNDkkVUmA4ZthgCYq-f0HO-dET86LePf8-8NVQJmRmHZsq_9C-jFsshF9MDdYvjbN-m77t7uspHrAlUBvCCfc7wwuS2A=='\n",
      "\n",
      "packet:  2#gAAAAABip6R354dWiOM4tlPeG6UCJktS7rUaCuBqIvoto5fAF8VrbNwZf7HyhCjiwGtitls-yPzh8hq8XzroecUdx80UiFxfnoXTuA6_U6yZHVluDUQFuDlF4Yp11tkHSGOyhkYDygxh6Iv-5tqIbw2X64NfekKAKAIBXV8PbCkpVKMYSeprw3cgqhvLNKDIHpN61pvNDkkVUmA4ZthgCYq-f0HO-dET86LePf8-8NVQJmRmHZsq_9C-jFsshF9MDdYvjbN-m77t7uspHrAlUBvCCfc7wwuS2A==\n",
      "\n",
      "success, patient id:  2\n",
      "////////////////////////////////////\n",
      "original data:  blood_preasure: 55/120 # pulse: 333 # diagnoses: sick # medication: panadol # follow up: non # 13/06/2022 22:56:25 # visit number: 2 # visit type: regular visit\n",
      "\n",
      "enc data:  b'gAAAAABip6R5AuaVivaE_ANLdqbaavhTFl8CO3dt7hQ_D5E7KJoIQUQbI4DfWWjOthuE1oqPN3vjEke8xfm94oWeVHGP6Zawg7hMSZOuiwXRiVe5K_XC4gaEzQbqhd0Z6gfyYSZ-wp_y8vn2KviUq-uh4dLgUSmTSFvYPocZ3knYaNrWym9hcxmJ6kr9V0BT31DnBfTnWdiAwGOQjmzPqwU4W3Ah7ShWuT2mjiXxyd53jE-7vOPdPMe2SWbP07iNN1cQMsfvpFhUzevbuofIzJD9EWeCP7nWH-27ZXFGYxbRCl6O4KlokmI='\n",
      "\n",
      "packet:  0#gAAAAABip6R5AuaVivaE_ANLdqbaavhTFl8CO3dt7hQ_D5E7KJoIQUQbI4DfWWjOthuE1oqPN3vjEke8xfm94oWeVHGP6Zawg7hMSZOuiwXRiVe5K_XC4gaEzQbqhd0Z6gfyYSZ-wp_y8vn2KviUq-uh4dLgUSmTSFvYPocZ3knYaNrWym9hcxmJ6kr9V0BT31DnBfTnWdiAwGOQjmzPqwU4W3Ah7ShWuT2mjiXxyd53jE-7vOPdPMe2SWbP07iNN1cQMsfvpFhUzevbuofIzJD9EWeCP7nWH-27ZXFGYxbRCl6O4KlokmI=\n",
      "\n",
      "////////////////////////////////////\n",
      "original data:  blood_preasure: 55/120 # pulse: 333 # diagnoses: sick # medication: panadol # follow up: non # 13/06/2022 22:56:25 # visit number: 2 # visit type: regular visit\n",
      "\n",
      "enc data:  b'gAAAAABip6R5d18wa4KADS1qNVqYYHkrSuyX8OvYZIJCIZItOKuV5Oyp7Q133SyNtish7k_K1YOJX4k5zuh-2NyBjFCxY_RArhCPzGtuN6xMOLaA7dIpf5HKuVVwcGCJwnvcUbQBHJrocJsPFhfjJeutKDxcVtq5I1HG-UR4Siulwcd2MnzQ3Z_AxDLBroM01tJRDHQdx_HZnehDODplU3n9bGDx0cP1SDSWq1Chy-dd93Iux5Ef1bUYbTjsNVYpaUwcuSwcZTBTzQvZInRaWcVMb1aHC8n_GePnVMBwLBrcmGg-Kbg8HqA='\n",
      "\n",
      "packet:  0#gAAAAABip6R5d18wa4KADS1qNVqYYHkrSuyX8OvYZIJCIZItOKuV5Oyp7Q133SyNtish7k_K1YOJX4k5zuh-2NyBjFCxY_RArhCPzGtuN6xMOLaA7dIpf5HKuVVwcGCJwnvcUbQBHJrocJsPFhfjJeutKDxcVtq5I1HG-UR4Siulwcd2MnzQ3Z_AxDLBroM01tJRDHQdx_HZnehDODplU3n9bGDx0cP1SDSWq1Chy-dd93Iux5Ef1bUYbTjsNVYpaUwcuSwcZTBTzQvZInRaWcVMb1aHC8n_GePnVMBwLBrcmGg-Kbg8HqA=\n",
      "\n",
      "////////////////////////////////////\n",
      "original data:  blood_preasure: 55/80 # pulse: 333 # test: pcr # result: negative # 13/06/2022 22:56:28 # visit number: 3 # visit type: lab visit\n",
      "\n",
      "enc data:  b'gAAAAABip6R8aM9oP13IUHnRvC3aq6gdwWLwqfGFbs_mX54v5o3_BJk6Ga49xtwvw7tyrP401JyZsihac-UPJQORfiC0-964c7-us0MUuaHIwEvwhcj_KVMDOfSUdbEhJD4-M9fzchbVjq8XyFqe_FLA8Q6QpZnMxDa5kVd399hwRyNtk42dQdYOd2U8J7eRZpZVg7-Tt6t-_4zXwr0wsle0mMK8DlQoN9OYvCp4424nu7YvNXGT5bBj7twUaXjMGqJjoaV2HYzN'\n",
      "\n",
      "packet:  0#gAAAAABip6R8aM9oP13IUHnRvC3aq6gdwWLwqfGFbs_mX54v5o3_BJk6Ga49xtwvw7tyrP401JyZsihac-UPJQORfiC0-964c7-us0MUuaHIwEvwhcj_KVMDOfSUdbEhJD4-M9fzchbVjq8XyFqe_FLA8Q6QpZnMxDa5kVd399hwRyNtk42dQdYOd2U8J7eRZpZVg7-Tt6t-_4zXwr0wsle0mMK8DlQoN9OYvCp4424nu7YvNXGT5bBj7twUaXjMGqJjoaV2HYzN\n",
      "\n",
      "////////////////////////////////////\n",
      "original data:  blood_preasure: 55/80 # pulse: 333 # test: pcr # result: negative # 13/06/2022 22:56:28 # visit number: 3 # visit type: lab visit\n",
      "\n",
      "enc data:  b'gAAAAABip6R8vGyAbzdp3iPF-yKAj9BcCJOQvSfDrga30FG6WiB3YiX1dgWuitd9K1Viqu7DT4L0mAukfYt_v0jse0cIxwEN0RrMfXOxBMF33uZIKwHFQwa35Y0dOGgYUTqR6WKPofka3gQaEEu_xxVdy94b2M9RJddMmA_jxdPiFq6lZOg3xVBeERw9GEL3IUA7_oDtQ6SLpKPKpuhLk8-BMi5AfyFTIVkl20komfsjm8rUq9TOMwAM_GJ5FUgfeDz2Ds0Jgqj9'\n",
      "\n",
      "packet:  0#gAAAAABip6R8vGyAbzdp3iPF-yKAj9BcCJOQvSfDrga30FG6WiB3YiX1dgWuitd9K1Viqu7DT4L0mAukfYt_v0jse0cIxwEN0RrMfXOxBMF33uZIKwHFQwa35Y0dOGgYUTqR6WKPofka3gQaEEu_xxVdy94b2M9RJddMmA_jxdPiFq6lZOg3xVBeERw9GEL3IUA7_oDtQ6SLpKPKpuhLk8-BMi5AfyFTIVkl20komfsjm8rUq9TOMwAM_GJ5FUgfeDz2Ds0Jgqj9\n",
      "\n",
      "////////////////////////////////////\n",
      "original data:  name: pat22 # age: 22 # weight: 150 kg # height: 200 cm # sex: f # blood_preasure: 118 pb # pulse: 300 gh # 13/06/2022 22:56:30 # patient registeration\n",
      "\n",
      "enc data:  b'gAAAAABip6R-8Wd7nT0G1-qtfGU3UT8dbq5iFHKjmW5u4cG3C9H153N8C7teL5z8dYYDXRWcKq82wzQoIfhJq7aAKTTjLj9enj33OuAtTs8GFqeR0Uxm3317gWO6qRmtMNMYbqDxKRLCKArpb6rIxCoUsss5FxGOqf15h3TmORfA5aLe4cpLscEH4fHyL-Py-vJQwLxvanW8pneImMSsEUUV9QGqO7Nnu9P51RcUZLuMp4mL1HezUkp_XlnTLtVoJzWikrCUO21v48Z17abs3ckk-hZn7pINdQ=='\n",
      "\n",
      "packet:  3#gAAAAABip6R-8Wd7nT0G1-qtfGU3UT8dbq5iFHKjmW5u4cG3C9H153N8C7teL5z8dYYDXRWcKq82wzQoIfhJq7aAKTTjLj9enj33OuAtTs8GFqeR0Uxm3317gWO6qRmtMNMYbqDxKRLCKArpb6rIxCoUsss5FxGOqf15h3TmORfA5aLe4cpLscEH4fHyL-Py-vJQwLxvanW8pneImMSsEUUV9QGqO7Nnu9P51RcUZLuMp4mL1HezUkp_XlnTLtVoJzWikrCUO21v48Z17abs3ckk-hZn7pINdQ==\n",
      "\n",
      "success, patient id:  3\n",
      "////////////////////////////////////\n",
      "original data:  name: pat12 # age: 22 # weight: 150 kg # height: 200 cm # sex: f # blood_preasure: 118 pb # pulse: 300 gh # 13/06/2022 22:56:30 # patient registeration\n",
      "\n",
      "enc data:  b'gAAAAABip6R-95XisQZN_IjS9Mte-bLpnYZLj9ar3kLhYzSFVzB9XNc1jfIDWA6jJ0zHPefdVVaVbZUDUb7HfByDORTuBfBhjR-9oSmAgEaO8bouZbhfprXu9XWVhVNv-nLB5-JJ7hANaxgxkYwlP6ihZeqa-Gjqf359FxQ5MxP-HBnQkcVykgcfl0R-qpmL6PkM-P9-4jqJxlCgngkTxUm14qWq_RE1LRLCkFfFewfrZ0rPUnzoktGZSpNEwQJn2jOlHgsrQgCGjohbl4EF0wIe0lbtFAEUcA=='\n",
      "\n",
      "packet:  3#gAAAAABip6R-95XisQZN_IjS9Mte-bLpnYZLj9ar3kLhYzSFVzB9XNc1jfIDWA6jJ0zHPefdVVaVbZUDUb7HfByDORTuBfBhjR-9oSmAgEaO8bouZbhfprXu9XWVhVNv-nLB5-JJ7hANaxgxkYwlP6ihZeqa-Gjqf359FxQ5MxP-HBnQkcVykgcfl0R-qpmL6PkM-P9-4jqJxlCgngkTxUm14qWq_RE1LRLCkFfFewfrZ0rPUnzoktGZSpNEwQJn2jOlHgsrQgCGjohbl4EF0wIe0lbtFAEUcA==\n",
      "\n",
      "success, patient id:  3\n",
      "////////////////////////////////////\n",
      "original data:  blood_preasure: 100/120 # pulse: 444 # diagnoses: very sick # medication: 2 panadol # follow up: yes # 13/06/2022 22:56:33 # visit number: 4 # visit type: regular visit\n",
      "\n",
      "enc data:  b'gAAAAABip6SBh3pnFDRcIbutJr5DV1XYYv47lglgKXk3QUW8mkHTtJWeWKQjX-iiwwyabLk1SucKiLTXh2OLzl0zH707hlsZnque95gIUoO0HrkXegMvw7tUzb6rPJmtgNbnZog7yZAdmDGnfbXDd6S1tZlUXqKOIcZOBhSmXnH3D20vVkO5748vcVTLzatYrdgYvbTS-bMXhsbrOnOJGZlsbhU4LfyWq9wHKgcRx15Qu6Km3C5VmgMYvg4jlJhgDWqrugfSLre2Ig5V24fGEw57Bf471W38o_mL0wjIeaVkAJKGrH_ubbk='\n",
      "\n",
      "packet:  1#gAAAAABip6SBh3pnFDRcIbutJr5DV1XYYv47lglgKXk3QUW8mkHTtJWeWKQjX-iiwwyabLk1SucKiLTXh2OLzl0zH707hlsZnque95gIUoO0HrkXegMvw7tUzb6rPJmtgNbnZog7yZAdmDGnfbXDd6S1tZlUXqKOIcZOBhSmXnH3D20vVkO5748vcVTLzatYrdgYvbTS-bMXhsbrOnOJGZlsbhU4LfyWq9wHKgcRx15Qu6Km3C5VmgMYvg4jlJhgDWqrugfSLre2Ig5V24fGEw57Bf471W38o_mL0wjIeaVkAJKGrH_ubbk=\n",
      "\n",
      "////////////////////////////////////\n",
      "original data:  blood_preasure: 100/120 # pulse: 444 # diagnoses: very sick # medication: 2 panadol # follow up: yes # 13/06/2022 22:56:33 # visit number: 4 # visit type: regular visit\n",
      "\n",
      "enc data:  b'gAAAAABip6SBFRYFyavMkvNhXDU_P6MPnVoJ5Ag6mwRRtpLPp5-H3vay3g2GRk1IrYr_ILbUwPeBaKkO44apD1pjx4wfZzR9DIZ4uav43AYZl02pCXpwfinicx70F3Y1wUpuLnXIMWg1Q3fkkWUNPJ70033AjhLgQV6Na1LCZdcBiXNGnhe9h9NLCZc7qkpI7KTa7XWq6DoDr3n3_vUOJzeFOv8LWdwo3wasagfF0vlRChOpBSvkW9Esfg0_KoG3JBW3D5yDYxXQliwWhd_BfqycemmR4tahT98Xg0f7wpyySdBzualaZUU='\n",
      "\n",
      "packet:  1#gAAAAABip6SBFRYFyavMkvNhXDU_P6MPnVoJ5Ag6mwRRtpLPp5-H3vay3g2GRk1IrYr_ILbUwPeBaKkO44apD1pjx4wfZzR9DIZ4uav43AYZl02pCXpwfinicx70F3Y1wUpuLnXIMWg1Q3fkkWUNPJ70033AjhLgQV6Na1LCZdcBiXNGnhe9h9NLCZc7qkpI7KTa7XWq6DoDr3n3_vUOJzeFOv8LWdwo3wasagfF0vlRChOpBSvkW9Esfg0_KoG3JBW3D5yDYxXQliwWhd_BfqycemmR4tahT98Xg0f7wpyySdBzualaZUU=\n",
      "\n",
      "////////////////////////////////////\n",
      "original data:  blood_preasure: 70/90 # pulse: 555 # test: pcr # result: positive # 13/06/2022 22:56:35 # visit number: 5 # visit type: lab visit\n",
      "\n",
      "enc data:  b'gAAAAABip6SDkVWVAwK3LOvxawsfMwqHwR7uElay2dO_GZqcJKGK-tXWZ-yYrSUOkzUgDIF5EIvxxAWYT2PiXNZ-CsGb3YpLQ7cQ0ObFT7lLyWo9h73dmHAreQEm9oqvhGxGPoOYWKQHTyuH3YIDvzWUjKY4nz4FVoJowRoFis68znsRv15Ne8WRl-pPVQJONKQq_eWU8VBXPaNYg6AgbKHKxpMKYDhXar4r8p2oLSueWH4wmrDXCYuE-hHVmoRCWe-LLgVeBWS1'\n",
      "\n",
      "packet:  1#gAAAAABip6SDkVWVAwK3LOvxawsfMwqHwR7uElay2dO_GZqcJKGK-tXWZ-yYrSUOkzUgDIF5EIvxxAWYT2PiXNZ-CsGb3YpLQ7cQ0ObFT7lLyWo9h73dmHAreQEm9oqvhGxGPoOYWKQHTyuH3YIDvzWUjKY4nz4FVoJowRoFis68znsRv15Ne8WRl-pPVQJONKQq_eWU8VBXPaNYg6AgbKHKxpMKYDhXar4r8p2oLSueWH4wmrDXCYuE-hHVmoRCWe-LLgVeBWS1\n",
      "\n",
      "////////////////////////////////////\n",
      "original data:  blood_preasure: 70/90 # pulse: 555 # test: pcr # result: positive # 13/06/2022 22:56:35 # visit number: 5 # visit type: lab visit\n",
      "\n",
      "enc data:  b'gAAAAABip6SDcljnJDmq8FfWoPATDUk4yaKi3f4tOJVH9unXot0wSFffE8Ld-p_JTRbXuSY0lluIJrRZR9Q_bbgvmOcoXR3TlSukWyuSSrQ1OkQRs5ytTwIc4KlJwgKLlqJ8gvH59rve7KNCAfVuXHvX6DAsLw9ehZYiJ7rXa2QnnblDHie-qGJV6IuFKDRB1RiBsLJVLCLsAuugwa4BB20wK7olgFTp5tzNniBnNk-D7jqVV0bA9FV-OAO_qP7Rd4cSWjV4PSh1'\n",
      "\n",
      "packet:  1#gAAAAABip6SDcljnJDmq8FfWoPATDUk4yaKi3f4tOJVH9unXot0wSFffE8Ld-p_JTRbXuSY0lluIJrRZR9Q_bbgvmOcoXR3TlSukWyuSSrQ1OkQRs5ytTwIc4KlJwgKLlqJ8gvH59rve7KNCAfVuXHvX6DAsLw9ehZYiJ7rXa2QnnblDHie-qGJV6IuFKDRB1RiBsLJVLCLsAuugwa4BB20wK7olgFTp5tzNniBnNk-D7jqVV0bA9FV-OAO_qP7Rd4cSWjV4PSh1\n",
      "\n",
      "////////////////////////////////////\n"
     ]
    }
   ],
   "source": [
    "t1 = threading.Thread(target=simulate_clinic1, args=())\n",
    "t2 = threading.Thread(target=simulate_clinic2, args=())\n",
    "t3 = threading.Thread(target=simulate_clinic3, args=())\n",
    "# t1.start()\n",
    "t2.start()\n",
    "t3.start()"
   ]
  },
  {
   "cell_type": "code",
   "execution_count": 26,
   "metadata": {},
   "outputs": [
    {
     "name": "stdout",
     "output_type": "stream",
     "text": [
      "clinic1 records:\n",
      "\n",
      "clinic2 records:\n",
      "\n",
      "clinic3 records:\n"
     ]
    }
   ],
   "source": [
    "clinic1 = clinic(0)\n",
    "clinic1.eval_view_all_records()"
   ]
  },
  {
   "cell_type": "code",
   "execution_count": null,
   "metadata": {},
   "outputs": [],
   "source": [
    "clinic1 = clinic(0)\n",
    "clinic1.view_records('0')"
   ]
  },
  {
   "cell_type": "markdown",
   "metadata": {},
   "source": [
    "### evaluation"
   ]
  },
  {
   "cell_type": "code",
   "execution_count": 36,
   "metadata": {},
   "outputs": [
    {
     "name": "stdout",
     "output_type": "stream",
     "text": [
      "original data:  name: pat01 # age: 20 # weight: 150 kg # height: 100 cm # sex: M # blood_preasure: 110 pb # pulse: 200 gh # 13/06/2022 22:39:45 # patient registeration\n",
      "\n",
      "enc data:  b'gAAAAABip6CRJW0prrznBWNoemTVNBy2W4yHBeABotJfCYS2DyiuPSfsVH_nl_qGC44cH-fJ1ZX7hPgfrt9QTbGVLcpFVmSyxi8ax9k1xvr4YZQFdnVzErZDOasXP4g0cZI02aRll5m4O_XoCAgEjStgkSBcu3f2oeiv7n3V-WTzt7nvJYXAT9r1-O8kRYtr1YkdGXKN7B3jxiW5-0bU_hGZIu1Zw3PnXrDcQzQ08UwKexdvKrMDwUErlH4tEKHmKQMomF-mi3FKZnfyfaUjaEkng_V_yaE0Eg=='\n",
      "\n",
      "packet:  0#gAAAAABip6CRJW0prrznBWNoemTVNBy2W4yHBeABotJfCYS2DyiuPSfsVH_nl_qGC44cH-fJ1ZX7hPgfrt9QTbGVLcpFVmSyxi8ax9k1xvr4YZQFdnVzErZDOasXP4g0cZI02aRll5m4O_XoCAgEjStgkSBcu3f2oeiv7n3V-WTzt7nvJYXAT9r1-O8kRYtr1YkdGXKN7B3jxiW5-0bU_hGZIu1Zw3PnXrDcQzQ08UwKexdvKrMDwUErlH4tEKHmKQMomF-mi3FKZnfyfaUjaEkng_V_yaE0Eg==\n",
      "\n",
      "success, patient id:  0\n",
      "////////////////////////////////////\n",
      "original data:  blood_preasure: 55/120 # pulse: 333 # diagnoses: sick # medication: panadol # follow up: non # 13/06/2022 22:39:46 # visit number: 0 # visit type: regular visit\n",
      "\n",
      "enc data:  b'gAAAAABip6CSzsOrFL_4XBuAebaACs3Oe3e3OcUvC9MfwmUnp-3H_xZA-kkfdU4arC5uSgsrz8sxR3hn4BrEczqVXuFIt04Um4b3mn8JWupRp5v_SyVZt-PsCLlkvJXNu85OzCmidKZ7rvoLZ_IJxiiMQwx8Dp7MhJSXZSzp1yRIP7_VjnBlecV-uMb0YeEjWR7MKjFc2se05SjHtqIjk6ttS1B9mUCgWafuuj1YuGtIjCFMZITl2KbJ3s6Z6UfiTbaaELHPakvDRumMVDvPrL5l83OFzDrIv8V2fDXbe2hvQXIyc-20_2U='\n",
      "\n",
      "packet:  0#gAAAAABip6CSzsOrFL_4XBuAebaACs3Oe3e3OcUvC9MfwmUnp-3H_xZA-kkfdU4arC5uSgsrz8sxR3hn4BrEczqVXuFIt04Um4b3mn8JWupRp5v_SyVZt-PsCLlkvJXNu85OzCmidKZ7rvoLZ_IJxiiMQwx8Dp7MhJSXZSzp1yRIP7_VjnBlecV-uMb0YeEjWR7MKjFc2se05SjHtqIjk6ttS1B9mUCgWafuuj1YuGtIjCFMZITl2KbJ3s6Z6UfiTbaaELHPakvDRumMVDvPrL5l83OFzDrIv8V2fDXbe2hvQXIyc-20_2U=\n",
      "\n",
      "////////////////////////////////////\n",
      "original data:  blood_preasure: 55/80 # pulse: 333 # test: pcr # result: negative # 13/06/2022 22:39:47 # visit number: 1 # visit type: lab visit\n",
      "\n",
      "enc data:  b'gAAAAABip6CTnMbLJkk_YJCjbRFBT6p_dNoof66P1Lvcoe-kBvJRlqRHOjhclkXod3Dn7RfC7H0L2R2TiLC37EnKNjrczX-RWOL2lNV7FSSOgsCQHn6eeUcxCPeBjZ_qgUeYH54kDLW5ZGemcyCEZomI8_w35FV6zA5nEltc9e4epirsmX5T9K62TLa4W_SrFX6zaX4HGdllM41O7x6jneLguCXE_7HMzfZ6Zjoe3O38n8POZxRMopIkhaTQpSPVnrrStQUibm_a'\n",
      "\n",
      "packet:  0#gAAAAABip6CTnMbLJkk_YJCjbRFBT6p_dNoof66P1Lvcoe-kBvJRlqRHOjhclkXod3Dn7RfC7H0L2R2TiLC37EnKNjrczX-RWOL2lNV7FSSOgsCQHn6eeUcxCPeBjZ_qgUeYH54kDLW5ZGemcyCEZomI8_w35FV6zA5nEltc9e4epirsmX5T9K62TLa4W_SrFX6zaX4HGdllM41O7x6jneLguCXE_7HMzfZ6Zjoe3O38n8POZxRMopIkhaTQpSPVnrrStQUibm_a\n",
      "\n",
      "////////////////////////////////////\n",
      "original data:  name: pat02 # age: 22 # weight: 150 kg # height: 200 cm # sex: f # blood_preasure: 118 pb # pulse: 300 gh # 13/06/2022 22:39:48 # patient registeration\n",
      "\n",
      "enc data:  b'gAAAAABip6CUwM0JmwQVmPNutnfB10XzJeT2kxh2BxRAJ0vXD30ccy7zNru7mvWs5GdQ9l4tHrs771CRVpDxURbau9p2gabHRQ-ObNgDDPp1OsWiSL_GU5obGPG4WaazUrXMdWFOxKgCphElOGLYhbzqJfCCdDBPqyyj5tOfVWtDUcHpOVpeqbIb0_LI52GdDkT7Ep759JknCSFm7AO_feQtWx7LSNlw4VXmqe4yrPy7qMje7DiwAVIV7XI8vw_9cLdr2Z6jpElI7LRM0qzgfAwxkje4sJJGRw=='\n",
      "\n",
      "packet:  1#gAAAAABip6CUwM0JmwQVmPNutnfB10XzJeT2kxh2BxRAJ0vXD30ccy7zNru7mvWs5GdQ9l4tHrs771CRVpDxURbau9p2gabHRQ-ObNgDDPp1OsWiSL_GU5obGPG4WaazUrXMdWFOxKgCphElOGLYhbzqJfCCdDBPqyyj5tOfVWtDUcHpOVpeqbIb0_LI52GdDkT7Ep759JknCSFm7AO_feQtWx7LSNlw4VXmqe4yrPy7qMje7DiwAVIV7XI8vw_9cLdr2Z6jpElI7LRM0qzgfAwxkje4sJJGRw==\n",
      "\n",
      "success, patient id:  1\n",
      "////////////////////////////////////\n",
      "original data:  blood_preasure: 100/120 # pulse: 444 # diagnoses: very sick # medication: 2 panadol # follow up: yes # 13/06/2022 22:39:49 # visit number: 2 # visit type: regular visit\n",
      "\n",
      "enc data:  b'gAAAAABip6CV_GML8xws1KRSy17qbi4ratEW0DAB1baDWdmNaUGuX1mKJXALDR5zzq_W6jakpy9M5ys9iZY0B017W9AFFqM9uSAIZ2WXUz7LmhECGsexDoNxbs9o0xvLU4zcKCZgPBI98bfBQoJ2sxhjGE-BzkZzgWyqxtMhUd2BbT7TP8EFERf1cbq04dEpquG3NBPX1AeMX6eBIOsGbHum1nE7fKsfuyiRyZmAptEMaGjNdK0vUrvPVWPMDytnIoKt-WG5v9hOVhp_BW_zWCoxo8KFPmUsU-9UHWyeWtw1SbcC4-qNdSY='\n",
      "\n",
      "packet:  1#gAAAAABip6CV_GML8xws1KRSy17qbi4ratEW0DAB1baDWdmNaUGuX1mKJXALDR5zzq_W6jakpy9M5ys9iZY0B017W9AFFqM9uSAIZ2WXUz7LmhECGsexDoNxbs9o0xvLU4zcKCZgPBI98bfBQoJ2sxhjGE-BzkZzgWyqxtMhUd2BbT7TP8EFERf1cbq04dEpquG3NBPX1AeMX6eBIOsGbHum1nE7fKsfuyiRyZmAptEMaGjNdK0vUrvPVWPMDytnIoKt-WG5v9hOVhp_BW_zWCoxo8KFPmUsU-9UHWyeWtw1SbcC4-qNdSY=\n",
      "\n",
      "////////////////////////////////////\n",
      "original data:  blood_preasure: 70/90 # pulse: 555 # test: pcr # result: positive # 13/06/2022 22:39:51 # visit number: 3 # visit type: lab visit\n",
      "\n",
      "enc data:  b'gAAAAABip6CXMx4c4ZlYrZfMn2pNCaQp52Gztui9moXANdfDphQS9G5J1pgveymZc93SZcED4VPsvmv9kQ_0lTYJ_QwAa1gOnESzbPUBXo15cbnjbGxkftZ8hCUbKTrpjrrbayApnpOTze5agmIhzRIMYZmuB9-gmlc1EOkqqq232crRDQPoRFkZDoDqBtRSa5FN1zvD6B7K29C2J4YYfSl9VZnNCPAGSs1vuUJD41DOTWMpDuIcux_4GwvYb_e9XUrlQ7x7Exam'\n",
      "\n",
      "packet:  1#gAAAAABip6CXMx4c4ZlYrZfMn2pNCaQp52Gztui9moXANdfDphQS9G5J1pgveymZc93SZcED4VPsvmv9kQ_0lTYJ_QwAa1gOnESzbPUBXo15cbnjbGxkftZ8hCUbKTrpjrrbayApnpOTze5agmIhzRIMYZmuB9-gmlc1EOkqqq232crRDQPoRFkZDoDqBtRSa5FN1zvD6B7K29C2J4YYfSl9VZnNCPAGSs1vuUJD41DOTWMpDuIcux_4GwvYb_e9XUrlQ7x7Exam\n",
      "\n",
      "////////////////////////////////////\n"
     ]
    }
   ],
   "source": [
    "## clinic1\n",
    "clinic1 = clinic(0)\n",
    "clinic1.add_new_patient('name: pat01', 'age: 20', 'weight: 150 kg', 'height: 100 cm', 'sex: M', 'blood_preasure: 110 pb', 'pulse: 200 gh') #0\n",
    "clinic1.regular_visit('0','blood_preasure: 55/120', 'pulse: 333', 'diagnoses: sick', 'medication: panadol', 'follow up: non')\n",
    "clinic1.lab_visit('0','blood_preasure: 55/80', 'pulse: 333', 'test: pcr', 'result: negative' )\n",
    "clinic1.add_new_patient('name: pat02', 'age: 22', 'weight: 150 kg', 'height: 200 cm', 'sex: f', 'blood_preasure: 118 pb', 'pulse: 300 gh') #0\n",
    "clinic1.regular_visit('1','blood_preasure: 100/120', 'pulse: 444', 'diagnoses: very sick', 'medication: 2 panadol', 'follow up: yes')\n",
    "clinic1.lab_visit('1','blood_preasure: 70/90', 'pulse: 555', 'test: pcr', 'result: positive' )"
   ]
  },
  {
   "cell_type": "code",
   "execution_count": 37,
   "metadata": {},
   "outputs": [
    {
     "name": "stdout",
     "output_type": "stream",
     "text": [
      "records\n",
      "name: pat01 # age: 20 # weight: 150 kg # height: 100 cm # sex: M # blood_preasure: 110 pb # pulse: 200 gh # 13/06/2022 22:39:45 # patient registeration\n",
      "blood_preasure: 55/120 # pulse: 333 # diagnoses: sick # medication: panadol # follow up: non # 13/06/2022 22:39:46 # visit number: 0 # visit type: regular visit\n",
      "blood_preasure: 55/80 # pulse: 333 # test: pcr # result: negative # 13/06/2022 22:39:47 # visit number: 1 # visit type: lab visit\n"
     ]
    }
   ],
   "source": [
    "clinic1.view_records('0')"
   ]
  },
  {
   "cell_type": "code",
   "execution_count": 38,
   "metadata": {},
   "outputs": [
    {
     "name": "stdout",
     "output_type": "stream",
     "text": [
      "original data:  name: pat11 # age: 20 # weight: 150 kg # height: 100 cm # sex: M # blood_preasure: 110 pb # pulse: 200 gh # 13/06/2022 22:40:53 # patient registeration\n",
      "\n",
      "enc data:  b'gAAAAABip6DV8fKkBekuyK0NV7BwfmYPESlEr2b3LVp1287GMErSBirqAF0Y8PTYvhJNQyGALwQd8NbidadXrt57c-ftNcSDtga46VQJ0PROtxS9wqBfn7KWV6LptDcfb4wI54EJz8JZ7Ix4vCYn8H_T5XtVQDFmspJYHr3GtQsb8ORxwjoeGgiQI5PahMI_dkdS09wJAhg5pxSPmZJ93QpGdNoXorfIL7zkVd_B13I7aE437o3Dz7hWt4MXbMGyPnl3FfMshb2--zJdEqCcBZsPz9vS591-jg=='\n",
      "\n",
      "packet:  0#gAAAAABip6DV8fKkBekuyK0NV7BwfmYPESlEr2b3LVp1287GMErSBirqAF0Y8PTYvhJNQyGALwQd8NbidadXrt57c-ftNcSDtga46VQJ0PROtxS9wqBfn7KWV6LptDcfb4wI54EJz8JZ7Ix4vCYn8H_T5XtVQDFmspJYHr3GtQsb8ORxwjoeGgiQI5PahMI_dkdS09wJAhg5pxSPmZJ93QpGdNoXorfIL7zkVd_B13I7aE437o3Dz7hWt4MXbMGyPnl3FfMshb2--zJdEqCcBZsPz9vS591-jg==\n",
      "\n",
      "success, patient id:  0\n",
      "////////////////////////////////////\n",
      "original data:  blood_preasure: 55/120 # pulse: 333 # diagnoses: sick # medication: panadol # follow up: non # 13/06/2022 22:40:54 # visit number: 0 # visit type: regular visit\n",
      "\n",
      "enc data:  b'gAAAAABip6DWox1IrlNp7L7J5LJqSeggjg_SN8xmTfjeEGMqSdTz3XyS8gmnVNlnPa4uUeWUXp8td0jecGP0VrjBPTMBvwC_ana_Ww6HGS24EOWRBbRtHODBxTVdlE8qdkgtOXkZeBt2yhkCDAYYDZawLGS6xDdrU1E3XX0srFnFj4oxF5tqMFKWHuBRNZowlzg6Zf6ZPZwD7QNoVobM2_0adVvCtDba0ZBxF971m2xH65Zlaz4RabECyW1xiUS6PfmMF4bLMPrP8-hjuCEJE6O3Sl5_6tBJdaR4f1hTSZ3tjIG6U7le0ao='\n",
      "\n",
      "packet:  0#gAAAAABip6DWox1IrlNp7L7J5LJqSeggjg_SN8xmTfjeEGMqSdTz3XyS8gmnVNlnPa4uUeWUXp8td0jecGP0VrjBPTMBvwC_ana_Ww6HGS24EOWRBbRtHODBxTVdlE8qdkgtOXkZeBt2yhkCDAYYDZawLGS6xDdrU1E3XX0srFnFj4oxF5tqMFKWHuBRNZowlzg6Zf6ZPZwD7QNoVobM2_0adVvCtDba0ZBxF971m2xH65Zlaz4RabECyW1xiUS6PfmMF4bLMPrP8-hjuCEJE6O3Sl5_6tBJdaR4f1hTSZ3tjIG6U7le0ao=\n",
      "\n",
      "////////////////////////////////////\n",
      "original data:  blood_preasure: 55/80 # pulse: 333 # test: pcr # result: negative # 13/06/2022 22:40:56 # visit number: 1 # visit type: lab visit\n",
      "\n",
      "enc data:  b'gAAAAABip6DYag9Ztx3Ev3yhLoaMIfNOsKjYprpfYJTuhth2gd29pZug8Nq_n9nDEq0jIzSqK8NNjGnTHCp5wMqDT1hlU2lNPB2w8TVJMteL7oO18oNVYm_sCQaDLDydgULBVUAg07ekEjPbvmXsPQFjzJv82GQvM9K5Dvu2jrySIgOl26WS_ku_wFqmMAyRpbRqtA2AxpFwZ_vAYc9YJtyy3M18oPaRr5w2IHQbZM_EkWseiU1lsosCHXOFDZ4dozr0BGiDOUIP'\n",
      "\n",
      "packet:  0#gAAAAABip6DYag9Ztx3Ev3yhLoaMIfNOsKjYprpfYJTuhth2gd29pZug8Nq_n9nDEq0jIzSqK8NNjGnTHCp5wMqDT1hlU2lNPB2w8TVJMteL7oO18oNVYm_sCQaDLDydgULBVUAg07ekEjPbvmXsPQFjzJv82GQvM9K5Dvu2jrySIgOl26WS_ku_wFqmMAyRpbRqtA2AxpFwZ_vAYc9YJtyy3M18oPaRr5w2IHQbZM_EkWseiU1lsosCHXOFDZ4dozr0BGiDOUIP\n",
      "\n",
      "////////////////////////////////////\n",
      "original data:  name: pat12 # age: 22 # weight: 150 kg # height: 200 cm # sex: f # blood_preasure: 118 pb # pulse: 300 gh # 13/06/2022 22:40:57 # patient registeration\n",
      "\n",
      "enc data:  b'gAAAAABip6DZYXlIm60N9j_7TEvlwYTK05DM0RTQrPka2AcqVFoGOE41luvw38bNq9ul549OFaiRhhmAjYwBLiI5EFtCUmCi22b2q5HstHxr4XHJQp7mG-AFyn0uGpPLB5FSWrJpeNhrctT2pJMQK4kkVbgJKwE724vysNUn9sszz7OWo1Pz2_CSxTIPCLUslQob8DzxnASnvPr03O4Au_wkRexRCIRrlPiqefWZnINSFyt3nnkdYW8ytXMPrN9vm82FmoS8mrOjCEH6p1dDT6KR-DJmTcRsfQ=='\n",
      "\n",
      "packet:  1#gAAAAABip6DZYXlIm60N9j_7TEvlwYTK05DM0RTQrPka2AcqVFoGOE41luvw38bNq9ul549OFaiRhhmAjYwBLiI5EFtCUmCi22b2q5HstHxr4XHJQp7mG-AFyn0uGpPLB5FSWrJpeNhrctT2pJMQK4kkVbgJKwE724vysNUn9sszz7OWo1Pz2_CSxTIPCLUslQob8DzxnASnvPr03O4Au_wkRexRCIRrlPiqefWZnINSFyt3nnkdYW8ytXMPrN9vm82FmoS8mrOjCEH6p1dDT6KR-DJmTcRsfQ==\n",
      "\n",
      "success, patient id:  1\n",
      "////////////////////////////////////\n",
      "original data:  blood_preasure: 100/120 # pulse: 444 # diagnoses: very sick # medication: 2 panadol # follow up: yes # 13/06/2022 22:40:58 # visit number: 2 # visit type: regular visit\n",
      "\n",
      "enc data:  b'gAAAAABip6DagAi92Vg-s5RE1P_pxin9A-3QFxNctm48UzIUWLqMmsR6ygocq43R5P4VYPt46yWgwpX3swaJiUkUARzJ9tUZ7msM__czG8DNShR4rTv8VNKA_W8RkE_qV_Z6DMy580dd69Om50z7DJ2sYleEbo0as2H9_6Gfv5v5BoUz8g66YpNgOsvArTtehxgxF4z7IBa-6se0inMRLNGmXwMK7IYrbLOHx1HrMibF8ZFAinNE9e3qOt07vOGP8ZsNZbSHXPMwiSX37Xm8v_J2XcPgq3l9Jspw5KgNx4BjUTxtaZJPDQ0='\n",
      "\n",
      "packet:  1#gAAAAABip6DagAi92Vg-s5RE1P_pxin9A-3QFxNctm48UzIUWLqMmsR6ygocq43R5P4VYPt46yWgwpX3swaJiUkUARzJ9tUZ7msM__czG8DNShR4rTv8VNKA_W8RkE_qV_Z6DMy580dd69Om50z7DJ2sYleEbo0as2H9_6Gfv5v5BoUz8g66YpNgOsvArTtehxgxF4z7IBa-6se0inMRLNGmXwMK7IYrbLOHx1HrMibF8ZFAinNE9e3qOt07vOGP8ZsNZbSHXPMwiSX37Xm8v_J2XcPgq3l9Jspw5KgNx4BjUTxtaZJPDQ0=\n",
      "\n",
      "////////////////////////////////////\n",
      "original data:  blood_preasure: 70/90 # pulse: 555 # test: pcr # result: positive # 13/06/2022 22:40:59 # visit number: 3 # visit type: lab visit\n",
      "\n",
      "enc data:  b'gAAAAABip6DbFc0uiTMqL0fZoZ3S9MDeDadeUiCVhJQhHjYznQOlbfqqz6i_wojYNmLGBB2FNmKs2uJpIovpfFyvhXgOtsSg54VUDtrOoYlTE_6U2sywnTQQEQhc_Tm11V7acF37mMdP78m7GJWCrgzQVTVKCVejDMXvvZhxASCW1DER5iPaU-dgn7Ns8BuJkYnyvCaX4fYzRyzswI2HYRyOkL_GuxHE-bOc0R5cEr-y3fGEWdFKBggWhQixZe5rd4aWM7xH9bCT'\n",
      "\n",
      "packet:  1#gAAAAABip6DbFc0uiTMqL0fZoZ3S9MDeDadeUiCVhJQhHjYznQOlbfqqz6i_wojYNmLGBB2FNmKs2uJpIovpfFyvhXgOtsSg54VUDtrOoYlTE_6U2sywnTQQEQhc_Tm11V7acF37mMdP78m7GJWCrgzQVTVKCVejDMXvvZhxASCW1DER5iPaU-dgn7Ns8BuJkYnyvCaX4fYzRyzswI2HYRyOkL_GuxHE-bOc0R5cEr-y3fGEWdFKBggWhQixZe5rd4aWM7xH9bCT\n",
      "\n",
      "////////////////////////////////////\n"
     ]
    }
   ],
   "source": [
    "## clinic2\n",
    "clinic2 = clinic(1)\n",
    "clinic2.add_new_patient('name: pat11', 'age: 20', 'weight: 150 kg', 'height: 100 cm', 'sex: M', 'blood_preasure: 110 pb', 'pulse: 200 gh') #0\n",
    "clinic2.regular_visit('0','blood_preasure: 55/120', 'pulse: 333', 'diagnoses: sick', 'medication: panadol', 'follow up: non')\n",
    "clinic2.lab_visit('0','blood_preasure: 55/80', 'pulse: 333', 'test: pcr', 'result: negative' )\n",
    "clinic2.add_new_patient('name: pat12', 'age: 22', 'weight: 150 kg', 'height: 200 cm', 'sex: f', 'blood_preasure: 118 pb', 'pulse: 300 gh') #0\n",
    "clinic2.regular_visit('1','blood_preasure: 100/120', 'pulse: 444', 'diagnoses: very sick', 'medication: 2 panadol', 'follow up: yes')\n",
    "clinic2.lab_visit('1','blood_preasure: 70/90', 'pulse: 555', 'test: pcr', 'result: positive' )"
   ]
  },
  {
   "cell_type": "code",
   "execution_count": 39,
   "metadata": {},
   "outputs": [
    {
     "name": "stdout",
     "output_type": "stream",
     "text": [
      "records\n",
      "name: pat12 # age: 22 # weight: 150 kg # height: 200 cm # sex: f # blood_preasure: 118 pb # pulse: 300 gh # 13/06/2022 22:40:57 # patient registeration\n",
      "blood_preasure: 100/120 # pulse: 444 # diagnoses: very sick # medication: 2 panadol # follow up: yes # 13/06/2022 22:40:58 # visit number: 2 # visit type: regular visit\n",
      "blood_preasure: 70/90 # pulse: 555 # test: pcr # result: positive # 13/06/2022 22:40:59 # visit number: 3 # visit type: lab visit\n"
     ]
    }
   ],
   "source": [
    "clinic2.view_records('1')"
   ]
  },
  {
   "cell_type": "code",
   "execution_count": 40,
   "metadata": {},
   "outputs": [
    {
     "name": "stdout",
     "output_type": "stream",
     "text": [
      "original data:  name: pat21 # age: 20 # weight: 150 kg # height: 100 cm # sex: M # blood_preasure: 110 pb # pulse: 200 gh # 13/06/2022 22:41:16 # patient registeration\n",
      "\n",
      "enc data:  b'gAAAAABip6DsLGUq8Cfa-_rHmlw_upkTGslZMNEn431k1TjE4jYrDlr29NWokH0o8bltevlk47m5tuArUNcZnKQZEVfGFgOoR2oZl35pSxK6YpJzOMM_KUHAgLewUKKLqyia6ADK6lHqT-hfvWhd3lfcwTUl8epFHwqfDb7KG3LrQB_zQSm4RYSWs3GDn-6rhdPN1rjkjMD29AK5FDYrnEWzHj7tOmQoM1CHXOAy8HkCvAj7CZAGgGMj8dHjDraf_RRJXJ2dedCNRL4EeiYGiGStvYEvLSEMUw=='\n",
      "\n",
      "packet:  0#gAAAAABip6DsLGUq8Cfa-_rHmlw_upkTGslZMNEn431k1TjE4jYrDlr29NWokH0o8bltevlk47m5tuArUNcZnKQZEVfGFgOoR2oZl35pSxK6YpJzOMM_KUHAgLewUKKLqyia6ADK6lHqT-hfvWhd3lfcwTUl8epFHwqfDb7KG3LrQB_zQSm4RYSWs3GDn-6rhdPN1rjkjMD29AK5FDYrnEWzHj7tOmQoM1CHXOAy8HkCvAj7CZAGgGMj8dHjDraf_RRJXJ2dedCNRL4EeiYGiGStvYEvLSEMUw==\n",
      "\n",
      "success, patient id:  0\n",
      "////////////////////////////////////\n",
      "original data:  blood_preasure: 55/120 # pulse: 333 # diagnoses: sick # medication: panadol # follow up: non # 13/06/2022 22:41:17 # visit number: 0 # visit type: regular visit\n",
      "\n",
      "enc data:  b'gAAAAABip6DteF2r_Geo4J3G4BmPmvNkbvzxKt0TyEFzQUOdtUoBWXU4Wi5ib0WJvABBEQG-vCCofAPBq77uxHBCI8Cv_4NSN1GbgSq5J77kFwZMNJnC-gh4yk99l51XM_JNjTPkgdXZiskv2so2my-1JWXZ6i2dLk7Om3WQczkViEiM2v6RvBA1i_FpcVpa8SjTHkAh5C--4sqDQzhE1qncfu10_HDuAaSE7O8AIEv-y1thGXvLeOd7BarZKnoG3TVfdVnvrjDGwegvAINUy3YZyL04IReryRuClJiBvmiQmUysV06-vJ4='\n",
      "\n",
      "packet:  0#gAAAAABip6DteF2r_Geo4J3G4BmPmvNkbvzxKt0TyEFzQUOdtUoBWXU4Wi5ib0WJvABBEQG-vCCofAPBq77uxHBCI8Cv_4NSN1GbgSq5J77kFwZMNJnC-gh4yk99l51XM_JNjTPkgdXZiskv2so2my-1JWXZ6i2dLk7Om3WQczkViEiM2v6RvBA1i_FpcVpa8SjTHkAh5C--4sqDQzhE1qncfu10_HDuAaSE7O8AIEv-y1thGXvLeOd7BarZKnoG3TVfdVnvrjDGwegvAINUy3YZyL04IReryRuClJiBvmiQmUysV06-vJ4=\n",
      "\n",
      "////////////////////////////////////\n",
      "original data:  blood_preasure: 55/80 # pulse: 333 # test: pcr # result: negative # 13/06/2022 22:41:18 # visit number: 1 # visit type: lab visit\n",
      "\n",
      "enc data:  b'gAAAAABip6Du7AU1Lju_q2HCuj5uCcaqoRHdZ1hOzLua290bj304alBmlGvcSSwRIF88k_Ps6kG3QkyXaujWQZPt-PqGrsgjmmL1WO3MxqTZw1N13cC1XQ31OzPQ4PLfh1AZ4OZa6QlwyXWxAOWegr_lqX96fUIUiJrv3HQvpMvo8zrAkuO6lKAg-NhsAe19ksSCNVU492n3jtRwiVpoQj9j5CgGGBB6qc5RKkNqry0MqO-NXVqQlP7l5EzAUfWu8G2Mv4Yh16Ue'\n",
      "\n",
      "packet:  0#gAAAAABip6Du7AU1Lju_q2HCuj5uCcaqoRHdZ1hOzLua290bj304alBmlGvcSSwRIF88k_Ps6kG3QkyXaujWQZPt-PqGrsgjmmL1WO3MxqTZw1N13cC1XQ31OzPQ4PLfh1AZ4OZa6QlwyXWxAOWegr_lqX96fUIUiJrv3HQvpMvo8zrAkuO6lKAg-NhsAe19ksSCNVU492n3jtRwiVpoQj9j5CgGGBB6qc5RKkNqry0MqO-NXVqQlP7l5EzAUfWu8G2Mv4Yh16Ue\n",
      "\n",
      "////////////////////////////////////\n",
      "original data:  name: pat22 # age: 22 # weight: 150 kg # height: 200 cm # sex: f # blood_preasure: 118 pb # pulse: 300 gh # 13/06/2022 22:41:19 # patient registeration\n",
      "\n",
      "enc data:  b'gAAAAABip6DvTpDGHkp7OIzAzjVcSMsOxiQL1YBym4pZkOrK9cSh21LaZzKTQSbejl2DNeMxU8_wVOInXQQCaeMRNyUmrjmXmB-3KxOFZFZN7EazueFwwUI2asgCLg9BivACaTNT-DtiD-8pBD_pjXUw5H3KHpyMU2_y8kA0rxhNkVmOjgt1cSYyZfxY5YHxTJ2qCTuiXkxzvRwtA0B9LNGE0msFeYvt7GjGytfQS5EhmFwDeQSYiMfRGYcN6i_twXsFydJ3rfMrweOsMK3nTqWYG4-Wr7zEnw=='\n",
      "\n",
      "packet:  1#gAAAAABip6DvTpDGHkp7OIzAzjVcSMsOxiQL1YBym4pZkOrK9cSh21LaZzKTQSbejl2DNeMxU8_wVOInXQQCaeMRNyUmrjmXmB-3KxOFZFZN7EazueFwwUI2asgCLg9BivACaTNT-DtiD-8pBD_pjXUw5H3KHpyMU2_y8kA0rxhNkVmOjgt1cSYyZfxY5YHxTJ2qCTuiXkxzvRwtA0B9LNGE0msFeYvt7GjGytfQS5EhmFwDeQSYiMfRGYcN6i_twXsFydJ3rfMrweOsMK3nTqWYG4-Wr7zEnw==\n",
      "\n",
      "success, patient id:  1\n",
      "////////////////////////////////////\n",
      "original data:  blood_preasure: 100/120 # pulse: 444 # diagnoses: very sick # medication: 2 panadol # follow up: yes # 13/06/2022 22:41:21 # visit number: 2 # visit type: regular visit\n",
      "\n",
      "enc data:  b'gAAAAABip6DxtiZNeFJvLA9bUCdNTCrLGvHDQdjw6Y_HqVKVanNP1joZZlam9Qj1pKT65slRFUR09PdSeA7rKS7-lqU6pHlxHxupqCrfMj3vLVpx7Z3NQj9q-jbFuly7FmqdsO-932JwHPW_xapUL3oGCNCDt9pFrJNtL4B2YNms9o6bAPvD2vlKl4ufCKzod3a-_coT5DV6SGLY7c6EFejytT69i5XxwEdZiRVHfmptPNE0jkmyn6DAENK8UOxQ-apBC_AC_Ugahng0Wqn54o46GJayM3oPS5r1qjJiipxIR4rnyMRsJNM='\n",
      "\n",
      "packet:  1#gAAAAABip6DxtiZNeFJvLA9bUCdNTCrLGvHDQdjw6Y_HqVKVanNP1joZZlam9Qj1pKT65slRFUR09PdSeA7rKS7-lqU6pHlxHxupqCrfMj3vLVpx7Z3NQj9q-jbFuly7FmqdsO-932JwHPW_xapUL3oGCNCDt9pFrJNtL4B2YNms9o6bAPvD2vlKl4ufCKzod3a-_coT5DV6SGLY7c6EFejytT69i5XxwEdZiRVHfmptPNE0jkmyn6DAENK8UOxQ-apBC_AC_Ugahng0Wqn54o46GJayM3oPS5r1qjJiipxIR4rnyMRsJNM=\n",
      "\n",
      "////////////////////////////////////\n",
      "original data:  blood_preasure: 70/90 # pulse: 555 # test: pcr # result: positive # 13/06/2022 22:41:22 # visit number: 3 # visit type: lab visit\n",
      "\n",
      "enc data:  b'gAAAAABip6DyEtC9CRObxWJZSXAkIiytQmpBbO3N-JwOv5l5XRX6lEtFm0CBvC6ejtM48GNy1xRvI25Dn02Fm4w3eg2ePnLEae02AOM9s4caM0vMFJpsLpGbADcgFUN921eJdRpUkyqa7zAqV9dNAelP-gZe5e_NykcTeQO8BPYfOlF66664OFgKRTfZF1RfMBmb_7sksZV_5-y_d0e8KvO6fzDN2muRGmZHXIhH85IFJRBQfHoqUFi_fkoP44ib0B1Nq2YwU4On'\n",
      "\n",
      "packet:  1#gAAAAABip6DyEtC9CRObxWJZSXAkIiytQmpBbO3N-JwOv5l5XRX6lEtFm0CBvC6ejtM48GNy1xRvI25Dn02Fm4w3eg2ePnLEae02AOM9s4caM0vMFJpsLpGbADcgFUN921eJdRpUkyqa7zAqV9dNAelP-gZe5e_NykcTeQO8BPYfOlF66664OFgKRTfZF1RfMBmb_7sksZV_5-y_d0e8KvO6fzDN2muRGmZHXIhH85IFJRBQfHoqUFi_fkoP44ib0B1Nq2YwU4On\n",
      "\n",
      "////////////////////////////////////\n"
     ]
    }
   ],
   "source": [
    "## clinic3\n",
    "clinic3 = clinic(2)\n",
    "clinic3.add_new_patient('name: pat21', 'age: 20', 'weight: 150 kg', 'height: 100 cm', 'sex: M', 'blood_preasure: 110 pb', 'pulse: 200 gh') #0\n",
    "clinic3.regular_visit('0','blood_preasure: 55/120', 'pulse: 333', 'diagnoses: sick', 'medication: panadol', 'follow up: non')\n",
    "clinic3.lab_visit('0','blood_preasure: 55/80', 'pulse: 333', 'test: pcr', 'result: negative' )\n",
    "clinic3.add_new_patient('name: pat22', 'age: 22', 'weight: 150 kg', 'height: 200 cm', 'sex: f', 'blood_preasure: 118 pb', 'pulse: 300 gh') #0\n",
    "clinic3.regular_visit('1','blood_preasure: 100/120', 'pulse: 444', 'diagnoses: very sick', 'medication: 2 panadol', 'follow up: yes')\n",
    "clinic3.lab_visit('1','blood_preasure: 70/90', 'pulse: 555', 'test: pcr', 'result: positive' )"
   ]
  },
  {
   "cell_type": "code",
   "execution_count": 41,
   "metadata": {},
   "outputs": [
    {
     "name": "stdout",
     "output_type": "stream",
     "text": [
      "records\n",
      "name: pat21 # age: 20 # weight: 150 kg # height: 100 cm # sex: M # blood_preasure: 110 pb # pulse: 200 gh # 13/06/2022 22:41:16 # patient registeration\n",
      "blood_preasure: 55/120 # pulse: 333 # diagnoses: sick # medication: panadol # follow up: non # 13/06/2022 22:41:17 # visit number: 0 # visit type: regular visit\n",
      "blood_preasure: 55/80 # pulse: 333 # test: pcr # result: negative # 13/06/2022 22:41:18 # visit number: 1 # visit type: lab visit\n"
     ]
    }
   ],
   "source": [
    "clinic3.view_records('0')"
   ]
  },
  {
   "cell_type": "code",
   "execution_count": 42,
   "metadata": {},
   "outputs": [
    {
     "name": "stdout",
     "output_type": "stream",
     "text": [
      "clinic1 records:\n",
      "0#gAAAAABip6CRJW0prrznBWNoemTVNBy2W4yHBeABotJfCYS2DyiuPSfsVH_nl_qGC44cH-fJ1ZX7hPgfrt9QTbGVLcpFVmSyxi8ax9k1xvr4YZQFdnVzErZDOasXP4g0cZI02aRll5m4O_XoCAgEjStgkSBcu3f2oeiv7n3V-WTzt7nvJYXAT9r1-O8kRYtr1YkdGXKN7B3jxiW5-0bU_hGZIu1Zw3PnXrDcQzQ08UwKexdvKrMDwUErlH4tEKHmKQMomF-mi3FKZnfyfaUjaEkng_V_yaE0Eg==\n",
      "\n",
      "0#gAAAAABip6CSzsOrFL_4XBuAebaACs3Oe3e3OcUvC9MfwmUnp-3H_xZA-kkfdU4arC5uSgsrz8sxR3hn4BrEczqVXuFIt04Um4b3mn8JWupRp5v_SyVZt-PsCLlkvJXNu85OzCmidKZ7rvoLZ_IJxiiMQwx8Dp7MhJSXZSzp1yRIP7_VjnBlecV-uMb0YeEjWR7MKjFc2se05SjHtqIjk6ttS1B9mUCgWafuuj1YuGtIjCFMZITl2KbJ3s6Z6UfiTbaaELHPakvDRumMVDvPrL5l83OFzDrIv8V2fDXbe2hvQXIyc-20_2U=\n",
      "\n",
      "0#gAAAAABip6CTnMbLJkk_YJCjbRFBT6p_dNoof66P1Lvcoe-kBvJRlqRHOjhclkXod3Dn7RfC7H0L2R2TiLC37EnKNjrczX-RWOL2lNV7FSSOgsCQHn6eeUcxCPeBjZ_qgUeYH54kDLW5ZGemcyCEZomI8_w35FV6zA5nEltc9e4epirsmX5T9K62TLa4W_SrFX6zaX4HGdllM41O7x6jneLguCXE_7HMzfZ6Zjoe3O38n8POZxRMopIkhaTQpSPVnrrStQUibm_a\n",
      "\n",
      "1#gAAAAABip6CUwM0JmwQVmPNutnfB10XzJeT2kxh2BxRAJ0vXD30ccy7zNru7mvWs5GdQ9l4tHrs771CRVpDxURbau9p2gabHRQ-ObNgDDPp1OsWiSL_GU5obGPG4WaazUrXMdWFOxKgCphElOGLYhbzqJfCCdDBPqyyj5tOfVWtDUcHpOVpeqbIb0_LI52GdDkT7Ep759JknCSFm7AO_feQtWx7LSNlw4VXmqe4yrPy7qMje7DiwAVIV7XI8vw_9cLdr2Z6jpElI7LRM0qzgfAwxkje4sJJGRw==\n",
      "\n",
      "1#gAAAAABip6CV_GML8xws1KRSy17qbi4ratEW0DAB1baDWdmNaUGuX1mKJXALDR5zzq_W6jakpy9M5ys9iZY0B017W9AFFqM9uSAIZ2WXUz7LmhECGsexDoNxbs9o0xvLU4zcKCZgPBI98bfBQoJ2sxhjGE-BzkZzgWyqxtMhUd2BbT7TP8EFERf1cbq04dEpquG3NBPX1AeMX6eBIOsGbHum1nE7fKsfuyiRyZmAptEMaGjNdK0vUrvPVWPMDytnIoKt-WG5v9hOVhp_BW_zWCoxo8KFPmUsU-9UHWyeWtw1SbcC4-qNdSY=\n",
      "\n",
      "1#gAAAAABip6CXMx4c4ZlYrZfMn2pNCaQp52Gztui9moXANdfDphQS9G5J1pgveymZc93SZcED4VPsvmv9kQ_0lTYJ_QwAa1gOnESzbPUBXo15cbnjbGxkftZ8hCUbKTrpjrrbayApnpOTze5agmIhzRIMYZmuB9-gmlc1EOkqqq232crRDQPoRFkZDoDqBtRSa5FN1zvD6B7K29C2J4YYfSl9VZnNCPAGSs1vuUJD41DOTWMpDuIcux_4GwvYb_e9XUrlQ7x7Exam\n",
      "\n",
      "\n",
      "clinic2 records:\n",
      "0#gAAAAABip6DV8fKkBekuyK0NV7BwfmYPESlEr2b3LVp1287GMErSBirqAF0Y8PTYvhJNQyGALwQd8NbidadXrt57c-ftNcSDtga46VQJ0PROtxS9wqBfn7KWV6LptDcfb4wI54EJz8JZ7Ix4vCYn8H_T5XtVQDFmspJYHr3GtQsb8ORxwjoeGgiQI5PahMI_dkdS09wJAhg5pxSPmZJ93QpGdNoXorfIL7zkVd_B13I7aE437o3Dz7hWt4MXbMGyPnl3FfMshb2--zJdEqCcBZsPz9vS591-jg==\n",
      "\n",
      "0#gAAAAABip6DWox1IrlNp7L7J5LJqSeggjg_SN8xmTfjeEGMqSdTz3XyS8gmnVNlnPa4uUeWUXp8td0jecGP0VrjBPTMBvwC_ana_Ww6HGS24EOWRBbRtHODBxTVdlE8qdkgtOXkZeBt2yhkCDAYYDZawLGS6xDdrU1E3XX0srFnFj4oxF5tqMFKWHuBRNZowlzg6Zf6ZPZwD7QNoVobM2_0adVvCtDba0ZBxF971m2xH65Zlaz4RabECyW1xiUS6PfmMF4bLMPrP8-hjuCEJE6O3Sl5_6tBJdaR4f1hTSZ3tjIG6U7le0ao=\n",
      "\n",
      "0#gAAAAABip6DYag9Ztx3Ev3yhLoaMIfNOsKjYprpfYJTuhth2gd29pZug8Nq_n9nDEq0jIzSqK8NNjGnTHCp5wMqDT1hlU2lNPB2w8TVJMteL7oO18oNVYm_sCQaDLDydgULBVUAg07ekEjPbvmXsPQFjzJv82GQvM9K5Dvu2jrySIgOl26WS_ku_wFqmMAyRpbRqtA2AxpFwZ_vAYc9YJtyy3M18oPaRr5w2IHQbZM_EkWseiU1lsosCHXOFDZ4dozr0BGiDOUIP\n",
      "\n",
      "1#gAAAAABip6DZYXlIm60N9j_7TEvlwYTK05DM0RTQrPka2AcqVFoGOE41luvw38bNq9ul549OFaiRhhmAjYwBLiI5EFtCUmCi22b2q5HstHxr4XHJQp7mG-AFyn0uGpPLB5FSWrJpeNhrctT2pJMQK4kkVbgJKwE724vysNUn9sszz7OWo1Pz2_CSxTIPCLUslQob8DzxnASnvPr03O4Au_wkRexRCIRrlPiqefWZnINSFyt3nnkdYW8ytXMPrN9vm82FmoS8mrOjCEH6p1dDT6KR-DJmTcRsfQ==\n",
      "\n",
      "1#gAAAAABip6DagAi92Vg-s5RE1P_pxin9A-3QFxNctm48UzIUWLqMmsR6ygocq43R5P4VYPt46yWgwpX3swaJiUkUARzJ9tUZ7msM__czG8DNShR4rTv8VNKA_W8RkE_qV_Z6DMy580dd69Om50z7DJ2sYleEbo0as2H9_6Gfv5v5BoUz8g66YpNgOsvArTtehxgxF4z7IBa-6se0inMRLNGmXwMK7IYrbLOHx1HrMibF8ZFAinNE9e3qOt07vOGP8ZsNZbSHXPMwiSX37Xm8v_J2XcPgq3l9Jspw5KgNx4BjUTxtaZJPDQ0=\n",
      "\n",
      "1#gAAAAABip6DbFc0uiTMqL0fZoZ3S9MDeDadeUiCVhJQhHjYznQOlbfqqz6i_wojYNmLGBB2FNmKs2uJpIovpfFyvhXgOtsSg54VUDtrOoYlTE_6U2sywnTQQEQhc_Tm11V7acF37mMdP78m7GJWCrgzQVTVKCVejDMXvvZhxASCW1DER5iPaU-dgn7Ns8BuJkYnyvCaX4fYzRyzswI2HYRyOkL_GuxHE-bOc0R5cEr-y3fGEWdFKBggWhQixZe5rd4aWM7xH9bCT\n",
      "\n",
      "\n",
      "clinic3 records:\n",
      "0#gAAAAABip6DsLGUq8Cfa-_rHmlw_upkTGslZMNEn431k1TjE4jYrDlr29NWokH0o8bltevlk47m5tuArUNcZnKQZEVfGFgOoR2oZl35pSxK6YpJzOMM_KUHAgLewUKKLqyia6ADK6lHqT-hfvWhd3lfcwTUl8epFHwqfDb7KG3LrQB_zQSm4RYSWs3GDn-6rhdPN1rjkjMD29AK5FDYrnEWzHj7tOmQoM1CHXOAy8HkCvAj7CZAGgGMj8dHjDraf_RRJXJ2dedCNRL4EeiYGiGStvYEvLSEMUw==\n",
      "\n",
      "0#gAAAAABip6DteF2r_Geo4J3G4BmPmvNkbvzxKt0TyEFzQUOdtUoBWXU4Wi5ib0WJvABBEQG-vCCofAPBq77uxHBCI8Cv_4NSN1GbgSq5J77kFwZMNJnC-gh4yk99l51XM_JNjTPkgdXZiskv2so2my-1JWXZ6i2dLk7Om3WQczkViEiM2v6RvBA1i_FpcVpa8SjTHkAh5C--4sqDQzhE1qncfu10_HDuAaSE7O8AIEv-y1thGXvLeOd7BarZKnoG3TVfdVnvrjDGwegvAINUy3YZyL04IReryRuClJiBvmiQmUysV06-vJ4=\n",
      "\n",
      "0#gAAAAABip6Du7AU1Lju_q2HCuj5uCcaqoRHdZ1hOzLua290bj304alBmlGvcSSwRIF88k_Ps6kG3QkyXaujWQZPt-PqGrsgjmmL1WO3MxqTZw1N13cC1XQ31OzPQ4PLfh1AZ4OZa6QlwyXWxAOWegr_lqX96fUIUiJrv3HQvpMvo8zrAkuO6lKAg-NhsAe19ksSCNVU492n3jtRwiVpoQj9j5CgGGBB6qc5RKkNqry0MqO-NXVqQlP7l5EzAUfWu8G2Mv4Yh16Ue\n",
      "\n",
      "1#gAAAAABip6DvTpDGHkp7OIzAzjVcSMsOxiQL1YBym4pZkOrK9cSh21LaZzKTQSbejl2DNeMxU8_wVOInXQQCaeMRNyUmrjmXmB-3KxOFZFZN7EazueFwwUI2asgCLg9BivACaTNT-DtiD-8pBD_pjXUw5H3KHpyMU2_y8kA0rxhNkVmOjgt1cSYyZfxY5YHxTJ2qCTuiXkxzvRwtA0B9LNGE0msFeYvt7GjGytfQS5EhmFwDeQSYiMfRGYcN6i_twXsFydJ3rfMrweOsMK3nTqWYG4-Wr7zEnw==\n",
      "\n",
      "1#gAAAAABip6DxtiZNeFJvLA9bUCdNTCrLGvHDQdjw6Y_HqVKVanNP1joZZlam9Qj1pKT65slRFUR09PdSeA7rKS7-lqU6pHlxHxupqCrfMj3vLVpx7Z3NQj9q-jbFuly7FmqdsO-932JwHPW_xapUL3oGCNCDt9pFrJNtL4B2YNms9o6bAPvD2vlKl4ufCKzod3a-_coT5DV6SGLY7c6EFejytT69i5XxwEdZiRVHfmptPNE0jkmyn6DAENK8UOxQ-apBC_AC_Ugahng0Wqn54o46GJayM3oPS5r1qjJiipxIR4rnyMRsJNM=\n",
      "\n",
      "1#gAAAAABip6DyEtC9CRObxWJZSXAkIiytQmpBbO3N-JwOv5l5XRX6lEtFm0CBvC6ejtM48GNy1xRvI25Dn02Fm4w3eg2ePnLEae02AOM9s4caM0vMFJpsLpGbADcgFUN921eJdRpUkyqa7zAqV9dNAelP-gZe5e_NykcTeQO8BPYfOlF66664OFgKRTfZF1RfMBmb_7sksZV_5-y_d0e8KvO6fzDN2muRGmZHXIhH85IFJRBQfHoqUFi_fkoP44ib0B1Nq2YwU4On\n",
      "\n"
     ]
    }
   ],
   "source": [
    "clinic1.eval_view_all_records()"
   ]
  },
  {
   "cell_type": "markdown",
   "metadata": {},
   "source": [
    "### conf check"
   ]
  },
  {
   "cell_type": "markdown",
   "metadata": {},
   "source": [
    "eval2_conf_check is a demo function that retrives the recoers of clinic2 and tries to decrypt the records with the key that is given as an argument\n",
    "\n",
    "to demonsiterate confidentality, we try to decrypt the records of clinic 2 with clinic 1 key which wont work, \n",
    "we then perfrom the same operation but with clinic2 private which will work"
   ]
  },
  {
   "cell_type": "code",
   "execution_count": 43,
   "metadata": {},
   "outputs": [
    {
     "name": "stdout",
     "output_type": "stream",
     "text": [
      "records\n",
      "6\n"
     ]
    },
    {
     "ename": "InvalidToken",
     "evalue": "",
     "output_type": "error",
     "traceback": [
      "\u001b[1;31m---------------------------------------------------------------------------\u001b[0m",
      "\u001b[1;31mInvalidSignature\u001b[0m                          Traceback (most recent call last)",
      "\u001b[1;32mc:\\Users\\mo7amad mo3taz\\anaconda3\\lib\\site-packages\\cryptography\\fernet.py\u001b[0m in \u001b[0;36m_verify_signature\u001b[1;34m(self, data)\u001b[0m\n\u001b[0;32m    118\u001b[0m         \u001b[1;32mtry\u001b[0m\u001b[1;33m:\u001b[0m\u001b[1;33m\u001b[0m\u001b[1;33m\u001b[0m\u001b[0m\n\u001b[1;32m--> 119\u001b[1;33m             \u001b[0mh\u001b[0m\u001b[1;33m.\u001b[0m\u001b[0mverify\u001b[0m\u001b[1;33m(\u001b[0m\u001b[0mdata\u001b[0m\u001b[1;33m[\u001b[0m\u001b[1;33m-\u001b[0m\u001b[1;36m32\u001b[0m\u001b[1;33m:\u001b[0m\u001b[1;33m]\u001b[0m\u001b[1;33m)\u001b[0m\u001b[1;33m\u001b[0m\u001b[1;33m\u001b[0m\u001b[0m\n\u001b[0m\u001b[0;32m    120\u001b[0m         \u001b[1;32mexcept\u001b[0m \u001b[0mInvalidSignature\u001b[0m\u001b[1;33m:\u001b[0m\u001b[1;33m\u001b[0m\u001b[1;33m\u001b[0m\u001b[0m\n",
      "\u001b[1;32mc:\\Users\\mo7amad mo3taz\\anaconda3\\lib\\site-packages\\cryptography\\hazmat\\primitives\\hmac.py\u001b[0m in \u001b[0;36mverify\u001b[1;34m(self, signature)\u001b[0m\n\u001b[0;32m     73\u001b[0m         \u001b[0mctx\u001b[0m\u001b[1;33m,\u001b[0m \u001b[0mself\u001b[0m\u001b[1;33m.\u001b[0m\u001b[0m_ctx\u001b[0m \u001b[1;33m=\u001b[0m \u001b[0mself\u001b[0m\u001b[1;33m.\u001b[0m\u001b[0m_ctx\u001b[0m\u001b[1;33m,\u001b[0m \u001b[1;32mNone\u001b[0m\u001b[1;33m\u001b[0m\u001b[1;33m\u001b[0m\u001b[0m\n\u001b[1;32m---> 74\u001b[1;33m         \u001b[0mctx\u001b[0m\u001b[1;33m.\u001b[0m\u001b[0mverify\u001b[0m\u001b[1;33m(\u001b[0m\u001b[0msignature\u001b[0m\u001b[1;33m)\u001b[0m\u001b[1;33m\u001b[0m\u001b[1;33m\u001b[0m\u001b[0m\n\u001b[0m",
      "\u001b[1;32mc:\\Users\\mo7amad mo3taz\\anaconda3\\lib\\site-packages\\cryptography\\hazmat\\backends\\openssl\\hmac.py\u001b[0m in \u001b[0;36mverify\u001b[1;34m(self, signature)\u001b[0m\n\u001b[0;32m     74\u001b[0m         \u001b[1;32mif\u001b[0m \u001b[1;32mnot\u001b[0m \u001b[0mconstant_time\u001b[0m\u001b[1;33m.\u001b[0m\u001b[0mbytes_eq\u001b[0m\u001b[1;33m(\u001b[0m\u001b[0mdigest\u001b[0m\u001b[1;33m,\u001b[0m \u001b[0msignature\u001b[0m\u001b[1;33m)\u001b[0m\u001b[1;33m:\u001b[0m\u001b[1;33m\u001b[0m\u001b[1;33m\u001b[0m\u001b[0m\n\u001b[1;32m---> 75\u001b[1;33m             \u001b[1;32mraise\u001b[0m \u001b[0mInvalidSignature\u001b[0m\u001b[1;33m(\u001b[0m\u001b[1;34m\"Signature did not match digest.\"\u001b[0m\u001b[1;33m)\u001b[0m\u001b[1;33m\u001b[0m\u001b[1;33m\u001b[0m\u001b[0m\n\u001b[0m",
      "\u001b[1;31mInvalidSignature\u001b[0m: Signature did not match digest.",
      "\nDuring handling of the above exception, another exception occurred:\n",
      "\u001b[1;31mInvalidToken\u001b[0m                              Traceback (most recent call last)",
      "\u001b[1;32mC:\\Users\\MO7AMA~1\\AppData\\Local\\Temp/ipykernel_28316/3046141209.py\u001b[0m in \u001b[0;36m<module>\u001b[1;34m\u001b[0m\n\u001b[1;32m----> 1\u001b[1;33m \u001b[0mclinic1\u001b[0m\u001b[1;33m.\u001b[0m\u001b[0meval2_conf_check\u001b[0m\u001b[1;33m(\u001b[0m\u001b[0mclinic1\u001b[0m\u001b[1;33m.\u001b[0m\u001b[0menc_key\u001b[0m\u001b[1;33m)\u001b[0m\u001b[1;33m\u001b[0m\u001b[1;33m\u001b[0m\u001b[0m\n\u001b[0m\u001b[0;32m      2\u001b[0m \u001b[1;31m# VS\u001b[0m\u001b[1;33m\u001b[0m\u001b[1;33m\u001b[0m\u001b[0m\n\u001b[0;32m      3\u001b[0m \u001b[0mclinic1\u001b[0m\u001b[1;33m.\u001b[0m\u001b[0meval2_conf_check\u001b[0m\u001b[1;33m(\u001b[0m\u001b[0mclinic2\u001b[0m\u001b[1;33m.\u001b[0m\u001b[0menc_key\u001b[0m\u001b[1;33m)\u001b[0m\u001b[1;33m\u001b[0m\u001b[1;33m\u001b[0m\u001b[0m\n",
      "\u001b[1;32mC:\\Users\\MO7AMA~1\\AppData\\Local\\Temp/ipykernel_28316/4191917734.py\u001b[0m in \u001b[0;36meval2_conf_check\u001b[1;34m(self, decryption_key)\u001b[0m\n\u001b[0;32m    177\u001b[0m             \u001b[0mhed_dat\u001b[0m \u001b[1;33m=\u001b[0m \u001b[0mrecord\u001b[0m\u001b[1;33m.\u001b[0m\u001b[0msplit\u001b[0m\u001b[1;33m(\u001b[0m\u001b[1;34m\"#\"\u001b[0m\u001b[1;33m)\u001b[0m\u001b[1;33m\u001b[0m\u001b[1;33m\u001b[0m\u001b[0m\n\u001b[0;32m    178\u001b[0m             \u001b[1;31m# print(hed_dat)\u001b[0m\u001b[1;33m\u001b[0m\u001b[1;33m\u001b[0m\u001b[0m\n\u001b[1;32m--> 179\u001b[1;33m             \u001b[0mdecrypted\u001b[0m \u001b[1;33m=\u001b[0m \u001b[0mdecryptor\u001b[0m\u001b[1;33m.\u001b[0m\u001b[0mdecrypt\u001b[0m\u001b[1;33m(\u001b[0m\u001b[0mhed_dat\u001b[0m\u001b[1;33m[\u001b[0m\u001b[1;36m1\u001b[0m\u001b[1;33m]\u001b[0m\u001b[1;33m.\u001b[0m\u001b[0mencode\u001b[0m\u001b[1;33m(\u001b[0m\u001b[1;34m'utf-8'\u001b[0m\u001b[1;33m)\u001b[0m\u001b[1;33m)\u001b[0m\u001b[1;33m\u001b[0m\u001b[1;33m\u001b[0m\u001b[0m\n\u001b[0m\u001b[0;32m    180\u001b[0m             \u001b[0mprint\u001b[0m\u001b[1;33m(\u001b[0m\u001b[0mdecrypted\u001b[0m\u001b[1;33m.\u001b[0m\u001b[0mdecode\u001b[0m\u001b[1;33m(\u001b[0m\u001b[1;33m)\u001b[0m\u001b[1;33m)\u001b[0m\u001b[1;33m\u001b[0m\u001b[1;33m\u001b[0m\u001b[0m\n\u001b[0;32m    181\u001b[0m \u001b[1;33m\u001b[0m\u001b[0m\n",
      "\u001b[1;32mc:\\Users\\mo7amad mo3taz\\anaconda3\\lib\\site-packages\\cryptography\\fernet.py\u001b[0m in \u001b[0;36mdecrypt\u001b[1;34m(self, token, ttl)\u001b[0m\n\u001b[0;32m     78\u001b[0m         \u001b[1;32melse\u001b[0m\u001b[1;33m:\u001b[0m\u001b[1;33m\u001b[0m\u001b[1;33m\u001b[0m\u001b[0m\n\u001b[0;32m     79\u001b[0m             \u001b[0mtime_info\u001b[0m \u001b[1;33m=\u001b[0m \u001b[1;33m(\u001b[0m\u001b[0mttl\u001b[0m\u001b[1;33m,\u001b[0m \u001b[0mint\u001b[0m\u001b[1;33m(\u001b[0m\u001b[0mtime\u001b[0m\u001b[1;33m.\u001b[0m\u001b[0mtime\u001b[0m\u001b[1;33m(\u001b[0m\u001b[1;33m)\u001b[0m\u001b[1;33m)\u001b[0m\u001b[1;33m)\u001b[0m\u001b[1;33m\u001b[0m\u001b[1;33m\u001b[0m\u001b[0m\n\u001b[1;32m---> 80\u001b[1;33m         \u001b[1;32mreturn\u001b[0m \u001b[0mself\u001b[0m\u001b[1;33m.\u001b[0m\u001b[0m_decrypt_data\u001b[0m\u001b[1;33m(\u001b[0m\u001b[0mdata\u001b[0m\u001b[1;33m,\u001b[0m \u001b[0mtimestamp\u001b[0m\u001b[1;33m,\u001b[0m \u001b[0mtime_info\u001b[0m\u001b[1;33m)\u001b[0m\u001b[1;33m\u001b[0m\u001b[1;33m\u001b[0m\u001b[0m\n\u001b[0m\u001b[0;32m     81\u001b[0m \u001b[1;33m\u001b[0m\u001b[0m\n\u001b[0;32m     82\u001b[0m     def decrypt_at_time(\n",
      "\u001b[1;32mc:\\Users\\mo7amad mo3taz\\anaconda3\\lib\\site-packages\\cryptography\\fernet.py\u001b[0m in \u001b[0;36m_decrypt_data\u001b[1;34m(self, data, timestamp, time_info)\u001b[0m\n\u001b[0;32m    135\u001b[0m                 \u001b[1;32mraise\u001b[0m \u001b[0mInvalidToken\u001b[0m\u001b[1;33m\u001b[0m\u001b[1;33m\u001b[0m\u001b[0m\n\u001b[0;32m    136\u001b[0m \u001b[1;33m\u001b[0m\u001b[0m\n\u001b[1;32m--> 137\u001b[1;33m         \u001b[0mself\u001b[0m\u001b[1;33m.\u001b[0m\u001b[0m_verify_signature\u001b[0m\u001b[1;33m(\u001b[0m\u001b[0mdata\u001b[0m\u001b[1;33m)\u001b[0m\u001b[1;33m\u001b[0m\u001b[1;33m\u001b[0m\u001b[0m\n\u001b[0m\u001b[0;32m    138\u001b[0m \u001b[1;33m\u001b[0m\u001b[0m\n\u001b[0;32m    139\u001b[0m         \u001b[0miv\u001b[0m \u001b[1;33m=\u001b[0m \u001b[0mdata\u001b[0m\u001b[1;33m[\u001b[0m\u001b[1;36m9\u001b[0m\u001b[1;33m:\u001b[0m\u001b[1;36m25\u001b[0m\u001b[1;33m]\u001b[0m\u001b[1;33m\u001b[0m\u001b[1;33m\u001b[0m\u001b[0m\n",
      "\u001b[1;32mc:\\Users\\mo7amad mo3taz\\anaconda3\\lib\\site-packages\\cryptography\\fernet.py\u001b[0m in \u001b[0;36m_verify_signature\u001b[1;34m(self, data)\u001b[0m\n\u001b[0;32m    119\u001b[0m             \u001b[0mh\u001b[0m\u001b[1;33m.\u001b[0m\u001b[0mverify\u001b[0m\u001b[1;33m(\u001b[0m\u001b[0mdata\u001b[0m\u001b[1;33m[\u001b[0m\u001b[1;33m-\u001b[0m\u001b[1;36m32\u001b[0m\u001b[1;33m:\u001b[0m\u001b[1;33m]\u001b[0m\u001b[1;33m)\u001b[0m\u001b[1;33m\u001b[0m\u001b[1;33m\u001b[0m\u001b[0m\n\u001b[0;32m    120\u001b[0m         \u001b[1;32mexcept\u001b[0m \u001b[0mInvalidSignature\u001b[0m\u001b[1;33m:\u001b[0m\u001b[1;33m\u001b[0m\u001b[1;33m\u001b[0m\u001b[0m\n\u001b[1;32m--> 121\u001b[1;33m             \u001b[1;32mraise\u001b[0m \u001b[0mInvalidToken\u001b[0m\u001b[1;33m\u001b[0m\u001b[1;33m\u001b[0m\u001b[0m\n\u001b[0m\u001b[0;32m    122\u001b[0m \u001b[1;33m\u001b[0m\u001b[0m\n\u001b[0;32m    123\u001b[0m     def _decrypt_data(\n",
      "\u001b[1;31mInvalidToken\u001b[0m: "
     ]
    }
   ],
   "source": [
    "clinic1.eval2_conf_check(clinic1.enc_key)"
   ]
  },
  {
   "cell_type": "markdown",
   "metadata": {},
   "source": [
    "VS"
   ]
  },
  {
   "cell_type": "code",
   "execution_count": 44,
   "metadata": {},
   "outputs": [
    {
     "name": "stdout",
     "output_type": "stream",
     "text": [
      "records\n",
      "6\n",
      "name: pat11 # age: 20 # weight: 150 kg # height: 100 cm # sex: M # blood_preasure: 110 pb # pulse: 200 gh # 13/06/2022 22:40:53 # patient registeration\n",
      "blood_preasure: 55/120 # pulse: 333 # diagnoses: sick # medication: panadol # follow up: non # 13/06/2022 22:40:54 # visit number: 0 # visit type: regular visit\n",
      "blood_preasure: 55/80 # pulse: 333 # test: pcr # result: negative # 13/06/2022 22:40:56 # visit number: 1 # visit type: lab visit\n",
      "name: pat12 # age: 22 # weight: 150 kg # height: 200 cm # sex: f # blood_preasure: 118 pb # pulse: 300 gh # 13/06/2022 22:40:57 # patient registeration\n",
      "blood_preasure: 100/120 # pulse: 444 # diagnoses: very sick # medication: 2 panadol # follow up: yes # 13/06/2022 22:40:58 # visit number: 2 # visit type: regular visit\n",
      "blood_preasure: 70/90 # pulse: 555 # test: pcr # result: positive # 13/06/2022 22:40:59 # visit number: 3 # visit type: lab visit\n"
     ]
    }
   ],
   "source": [
    "\n",
    "clinic1.eval2_conf_check(clinic2.enc_key)"
   ]
  },
  {
   "cell_type": "markdown",
   "metadata": {},
   "source": [
    "### NON_REP check"
   ]
  },
  {
   "cell_type": "markdown",
   "metadata": {},
   "source": [
    "set_signing_key is a demo function that sets the private key(signing key) to the given argument key. this ensures that the key used for signing is the given argument key\n",
    "\n",
    "when we set the signing key to any key but the clinic(entity) authentic key, the smart contract will detect that the address of the message sender associated with the smart cpontract and will revert the transaction."
   ]
  },
  {
   "cell_type": "code",
   "execution_count": 45,
   "metadata": {},
   "outputs": [
    {
     "ename": "ValueError",
     "evalue": "{'message': 'VM Exception while processing transaction: revert address dont match or the message is altered', 'code': -32000, 'data': {'0xbf329f7bd36286a1170355fecc96d6c22e80b24b4cf4b4eff37ccaef5d8ad18a': {'error': 'revert', 'program_counter': 1583, 'return': '0x08c379a00000000000000000000000000000000000000000000000000000000000000020000000000000000000000000000000000000000000000000000000000000002c6164647265737320646f6e74206d61746368206f7220746865206d65737361676520697320616c74657265640000000000000000000000000000000000000000', 'reason': 'address dont match or the message is altered'}, 'stack': 'RuntimeError: VM Exception while processing transaction: revert address dont match or the message is altered\\n    at Function.RuntimeError.fromResults (C:\\\\Program Files\\\\WindowsApps\\\\GanacheUI_2.5.4.0_x64__5dg5pnz03psnj\\\\app\\\\resources\\\\static\\\\node\\\\node_modules\\\\ganache-core\\\\lib\\\\utils\\\\runtimeerror.js:94:13)\\n    at BlockchainDouble.processBlock (C:\\\\Program Files\\\\WindowsApps\\\\GanacheUI_2.5.4.0_x64__5dg5pnz03psnj\\\\app\\\\resources\\\\static\\\\node\\\\node_modules\\\\ganache-core\\\\lib\\\\blockchain_double.js:627:24)\\n    at runMicrotasks (<anonymous>)\\n    at processTicksAndRejections (internal/process/task_queues.js:93:5)', 'name': 'RuntimeError'}}",
     "output_type": "error",
     "traceback": [
      "\u001b[1;31m---------------------------------------------------------------------------\u001b[0m",
      "\u001b[1;31mValueError\u001b[0m                                Traceback (most recent call last)",
      "\u001b[1;32mC:\\Users\\MO7AMA~1\\AppData\\Local\\Temp/ipykernel_28316/3531305145.py\u001b[0m in \u001b[0;36m<module>\u001b[1;34m\u001b[0m\n\u001b[0;32m      1\u001b[0m \u001b[0mclinic1\u001b[0m \u001b[1;33m=\u001b[0m \u001b[0mclinic\u001b[0m\u001b[1;33m(\u001b[0m\u001b[1;36m0\u001b[0m\u001b[1;33m)\u001b[0m\u001b[1;33m\u001b[0m\u001b[1;33m\u001b[0m\u001b[0m\n\u001b[0;32m      2\u001b[0m \u001b[0mclinic1\u001b[0m\u001b[1;33m.\u001b[0m\u001b[0mset_signing_key\u001b[0m\u001b[1;33m(\u001b[0m\u001b[0mclinic2\u001b[0m\u001b[1;33m.\u001b[0m\u001b[0mprivate_key\u001b[0m\u001b[1;33m)\u001b[0m\u001b[1;33m\u001b[0m\u001b[1;33m\u001b[0m\u001b[0m\n\u001b[1;32m----> 3\u001b[1;33m \u001b[0mclinic1\u001b[0m\u001b[1;33m.\u001b[0m\u001b[0madd_new_patient\u001b[0m\u001b[1;33m(\u001b[0m\u001b[1;34m'name: pat01'\u001b[0m\u001b[1;33m,\u001b[0m \u001b[1;34m'age: 20'\u001b[0m\u001b[1;33m,\u001b[0m \u001b[1;34m'weight: 150 kg'\u001b[0m\u001b[1;33m,\u001b[0m \u001b[1;34m'height: 100 cm'\u001b[0m\u001b[1;33m,\u001b[0m \u001b[1;34m'sex: M'\u001b[0m\u001b[1;33m,\u001b[0m \u001b[1;34m'blood_preasure: 110 pb'\u001b[0m\u001b[1;33m,\u001b[0m \u001b[1;34m'pulse: 200 gh'\u001b[0m\u001b[1;33m)\u001b[0m \u001b[1;31m#0\u001b[0m\u001b[1;33m\u001b[0m\u001b[1;33m\u001b[0m\u001b[0m\n\u001b[0m",
      "\u001b[1;32mC:\\Users\\MO7AMA~1\\AppData\\Local\\Temp/ipykernel_28316/4191917734.py\u001b[0m in \u001b[0;36madd_new_patient\u001b[1;34m(self, name, age, weight, height, sex, blood_p, pulse)\u001b[0m\n\u001b[0;32m     54\u001b[0m         \u001b[0msigned_message\u001b[0m \u001b[1;33m=\u001b[0m \u001b[0mself\u001b[0m\u001b[1;33m.\u001b[0m\u001b[0msign_packet\u001b[0m\u001b[1;33m(\u001b[0m\u001b[0mpacket\u001b[0m\u001b[1;33m)\u001b[0m\u001b[1;33m\u001b[0m\u001b[1;33m\u001b[0m\u001b[0m\n\u001b[0;32m     55\u001b[0m         \u001b[1;31m# FOR integerity checking try to replace the send message with any other string\u001b[0m\u001b[1;33m\u001b[0m\u001b[1;33m\u001b[0m\u001b[0m\n\u001b[1;32m---> 56\u001b[1;33m         tx_hash = contract_instance.functions.add_patient(packet, signed_message[0], signed_message[1], signed_message[2]).transact({\n\u001b[0m\u001b[0;32m     57\u001b[0m             \u001b[1;34m'from'\u001b[0m\u001b[1;33m:\u001b[0m \u001b[0mself\u001b[0m\u001b[1;33m.\u001b[0m\u001b[0maddress\u001b[0m\u001b[1;33m,\u001b[0m\u001b[1;33m\u001b[0m\u001b[1;33m\u001b[0m\u001b[0m\n\u001b[0;32m     58\u001b[0m             \u001b[1;34m'nonce'\u001b[0m\u001b[1;33m:\u001b[0m \u001b[0mw3\u001b[0m\u001b[1;33m.\u001b[0m\u001b[0meth\u001b[0m\u001b[1;33m.\u001b[0m\u001b[0mgetTransactionCount\u001b[0m\u001b[1;33m(\u001b[0m\u001b[0mself\u001b[0m\u001b[1;33m.\u001b[0m\u001b[0maddress\u001b[0m\u001b[1;33m)\u001b[0m\u001b[1;33m,\u001b[0m\u001b[1;33m\u001b[0m\u001b[1;33m\u001b[0m\u001b[0m\n",
      "\u001b[1;32mc:\\Users\\mo7amad mo3taz\\anaconda3\\lib\\site-packages\\web3\\contract.py\u001b[0m in \u001b[0;36mtransact\u001b[1;34m(self, transaction)\u001b[0m\n\u001b[0;32m    995\u001b[0m                 )\n\u001b[0;32m    996\u001b[0m \u001b[1;33m\u001b[0m\u001b[0m\n\u001b[1;32m--> 997\u001b[1;33m         return transact_with_contract_function(\n\u001b[0m\u001b[0;32m    998\u001b[0m             \u001b[0mself\u001b[0m\u001b[1;33m.\u001b[0m\u001b[0maddress\u001b[0m\u001b[1;33m,\u001b[0m\u001b[1;33m\u001b[0m\u001b[1;33m\u001b[0m\u001b[0m\n\u001b[0;32m    999\u001b[0m             \u001b[0mself\u001b[0m\u001b[1;33m.\u001b[0m\u001b[0mweb3\u001b[0m\u001b[1;33m,\u001b[0m\u001b[1;33m\u001b[0m\u001b[1;33m\u001b[0m\u001b[0m\n",
      "\u001b[1;32mc:\\Users\\mo7amad mo3taz\\anaconda3\\lib\\site-packages\\web3\\contract.py\u001b[0m in \u001b[0;36mtransact_with_contract_function\u001b[1;34m(address, web3, function_name, transaction, contract_abi, fn_abi, *args, **kwargs)\u001b[0m\n\u001b[0;32m   1588\u001b[0m     )\n\u001b[0;32m   1589\u001b[0m \u001b[1;33m\u001b[0m\u001b[0m\n\u001b[1;32m-> 1590\u001b[1;33m     \u001b[0mtxn_hash\u001b[0m \u001b[1;33m=\u001b[0m \u001b[0mweb3\u001b[0m\u001b[1;33m.\u001b[0m\u001b[0meth\u001b[0m\u001b[1;33m.\u001b[0m\u001b[0msend_transaction\u001b[0m\u001b[1;33m(\u001b[0m\u001b[0mtransact_transaction\u001b[0m\u001b[1;33m)\u001b[0m\u001b[1;33m\u001b[0m\u001b[1;33m\u001b[0m\u001b[0m\n\u001b[0m\u001b[0;32m   1591\u001b[0m     \u001b[1;32mreturn\u001b[0m \u001b[0mtxn_hash\u001b[0m\u001b[1;33m\u001b[0m\u001b[1;33m\u001b[0m\u001b[0m\n\u001b[0;32m   1592\u001b[0m \u001b[1;33m\u001b[0m\u001b[0m\n",
      "\u001b[1;32mc:\\Users\\mo7amad mo3taz\\anaconda3\\lib\\site-packages\\web3\\eth.py\u001b[0m in \u001b[0;36msend_transaction\u001b[1;34m(self, transaction)\u001b[0m\n\u001b[0;32m    826\u001b[0m \u001b[1;33m\u001b[0m\u001b[0m\n\u001b[0;32m    827\u001b[0m     \u001b[1;32mdef\u001b[0m \u001b[0msend_transaction\u001b[0m\u001b[1;33m(\u001b[0m\u001b[0mself\u001b[0m\u001b[1;33m,\u001b[0m \u001b[0mtransaction\u001b[0m\u001b[1;33m:\u001b[0m \u001b[0mTxParams\u001b[0m\u001b[1;33m)\u001b[0m \u001b[1;33m->\u001b[0m \u001b[0mHexBytes\u001b[0m\u001b[1;33m:\u001b[0m\u001b[1;33m\u001b[0m\u001b[1;33m\u001b[0m\u001b[0m\n\u001b[1;32m--> 828\u001b[1;33m         \u001b[1;32mreturn\u001b[0m \u001b[0mself\u001b[0m\u001b[1;33m.\u001b[0m\u001b[0m_send_transaction\u001b[0m\u001b[1;33m(\u001b[0m\u001b[0mtransaction\u001b[0m\u001b[1;33m)\u001b[0m\u001b[1;33m\u001b[0m\u001b[1;33m\u001b[0m\u001b[0m\n\u001b[0m\u001b[0;32m    829\u001b[0m \u001b[1;33m\u001b[0m\u001b[0m\n\u001b[0;32m    830\u001b[0m     \u001b[1;32mdef\u001b[0m \u001b[0msend_raw_transaction\u001b[0m\u001b[1;33m(\u001b[0m\u001b[0mself\u001b[0m\u001b[1;33m,\u001b[0m \u001b[0mtransaction\u001b[0m\u001b[1;33m:\u001b[0m \u001b[0mUnion\u001b[0m\u001b[1;33m[\u001b[0m\u001b[0mHexStr\u001b[0m\u001b[1;33m,\u001b[0m \u001b[0mbytes\u001b[0m\u001b[1;33m]\u001b[0m\u001b[1;33m)\u001b[0m \u001b[1;33m->\u001b[0m \u001b[0mHexBytes\u001b[0m\u001b[1;33m:\u001b[0m\u001b[1;33m\u001b[0m\u001b[1;33m\u001b[0m\u001b[0m\n",
      "\u001b[1;32mc:\\Users\\mo7amad mo3taz\\anaconda3\\lib\\site-packages\\web3\\module.py\u001b[0m in \u001b[0;36mcaller\u001b[1;34m(*args, **kwargs)\u001b[0m\n\u001b[0;32m     55\u001b[0m             \u001b[1;32mreturn\u001b[0m \u001b[0mLogFilter\u001b[0m\u001b[1;33m(\u001b[0m\u001b[0meth_module\u001b[0m\u001b[1;33m=\u001b[0m\u001b[0mmodule\u001b[0m\u001b[1;33m,\u001b[0m \u001b[0mfilter_id\u001b[0m\u001b[1;33m=\u001b[0m\u001b[0merr\u001b[0m\u001b[1;33m.\u001b[0m\u001b[0mfilter_id\u001b[0m\u001b[1;33m)\u001b[0m\u001b[1;33m\u001b[0m\u001b[1;33m\u001b[0m\u001b[0m\n\u001b[0;32m     56\u001b[0m         \u001b[0mresult_formatters\u001b[0m\u001b[1;33m,\u001b[0m \u001b[0merror_formatters\u001b[0m\u001b[1;33m,\u001b[0m \u001b[0mnull_result_formatters\u001b[0m \u001b[1;33m=\u001b[0m \u001b[0mresponse_formatters\u001b[0m\u001b[1;33m\u001b[0m\u001b[1;33m\u001b[0m\u001b[0m\n\u001b[1;32m---> 57\u001b[1;33m         result = w3.manager.request_blocking(method_str,\n\u001b[0m\u001b[0;32m     58\u001b[0m                                              \u001b[0mparams\u001b[0m\u001b[1;33m,\u001b[0m\u001b[1;33m\u001b[0m\u001b[1;33m\u001b[0m\u001b[0m\n\u001b[0;32m     59\u001b[0m                                              \u001b[0merror_formatters\u001b[0m\u001b[1;33m,\u001b[0m\u001b[1;33m\u001b[0m\u001b[1;33m\u001b[0m\u001b[0m\n",
      "\u001b[1;32mc:\\Users\\mo7amad mo3taz\\anaconda3\\lib\\site-packages\\web3\\manager.py\u001b[0m in \u001b[0;36mrequest_blocking\u001b[1;34m(self, method, params, error_formatters, null_result_formatters)\u001b[0m\n\u001b[0;32m    196\u001b[0m         \"\"\"\n\u001b[0;32m    197\u001b[0m         \u001b[0mresponse\u001b[0m \u001b[1;33m=\u001b[0m \u001b[0mself\u001b[0m\u001b[1;33m.\u001b[0m\u001b[0m_make_request\u001b[0m\u001b[1;33m(\u001b[0m\u001b[0mmethod\u001b[0m\u001b[1;33m,\u001b[0m \u001b[0mparams\u001b[0m\u001b[1;33m)\u001b[0m\u001b[1;33m\u001b[0m\u001b[1;33m\u001b[0m\u001b[0m\n\u001b[1;32m--> 198\u001b[1;33m         return self.formatted_response(response,\n\u001b[0m\u001b[0;32m    199\u001b[0m                                        \u001b[0mparams\u001b[0m\u001b[1;33m,\u001b[0m\u001b[1;33m\u001b[0m\u001b[1;33m\u001b[0m\u001b[0m\n\u001b[0;32m    200\u001b[0m                                        \u001b[0merror_formatters\u001b[0m\u001b[1;33m,\u001b[0m\u001b[1;33m\u001b[0m\u001b[1;33m\u001b[0m\u001b[0m\n",
      "\u001b[1;32mc:\\Users\\mo7amad mo3taz\\anaconda3\\lib\\site-packages\\web3\\manager.py\u001b[0m in \u001b[0;36mformatted_response\u001b[1;34m(response, params, error_formatters, null_result_formatters)\u001b[0m\n\u001b[0;32m    169\u001b[0m         \u001b[1;32mif\u001b[0m \u001b[1;34m\"error\"\u001b[0m \u001b[1;32min\u001b[0m \u001b[0mresponse\u001b[0m\u001b[1;33m:\u001b[0m\u001b[1;33m\u001b[0m\u001b[1;33m\u001b[0m\u001b[0m\n\u001b[0;32m    170\u001b[0m             \u001b[0mapply_error_formatters\u001b[0m\u001b[1;33m(\u001b[0m\u001b[0merror_formatters\u001b[0m\u001b[1;33m,\u001b[0m \u001b[0mresponse\u001b[0m\u001b[1;33m)\u001b[0m\u001b[1;33m\u001b[0m\u001b[1;33m\u001b[0m\u001b[0m\n\u001b[1;32m--> 171\u001b[1;33m             \u001b[1;32mraise\u001b[0m \u001b[0mValueError\u001b[0m\u001b[1;33m(\u001b[0m\u001b[0mresponse\u001b[0m\u001b[1;33m[\u001b[0m\u001b[1;34m\"error\"\u001b[0m\u001b[1;33m]\u001b[0m\u001b[1;33m)\u001b[0m\u001b[1;33m\u001b[0m\u001b[1;33m\u001b[0m\u001b[0m\n\u001b[0m\u001b[0;32m    172\u001b[0m         \u001b[1;31m# NULL_RESPONSES includes None, so return False here as the default\u001b[0m\u001b[1;33m\u001b[0m\u001b[1;33m\u001b[0m\u001b[0m\n\u001b[0;32m    173\u001b[0m         \u001b[1;31m# so we don't apply the null_result_formatters if there is no 'result' key\u001b[0m\u001b[1;33m\u001b[0m\u001b[1;33m\u001b[0m\u001b[0m\n",
      "\u001b[1;31mValueError\u001b[0m: {'message': 'VM Exception while processing transaction: revert address dont match or the message is altered', 'code': -32000, 'data': {'0xbf329f7bd36286a1170355fecc96d6c22e80b24b4cf4b4eff37ccaef5d8ad18a': {'error': 'revert', 'program_counter': 1583, 'return': '0x08c379a00000000000000000000000000000000000000000000000000000000000000020000000000000000000000000000000000000000000000000000000000000002c6164647265737320646f6e74206d61746368206f7220746865206d65737361676520697320616c74657265640000000000000000000000000000000000000000', 'reason': 'address dont match or the message is altered'}, 'stack': 'RuntimeError: VM Exception while processing transaction: revert address dont match or the message is altered\\n    at Function.RuntimeError.fromResults (C:\\\\Program Files\\\\WindowsApps\\\\GanacheUI_2.5.4.0_x64__5dg5pnz03psnj\\\\app\\\\resources\\\\static\\\\node\\\\node_modules\\\\ganache-core\\\\lib\\\\utils\\\\runtimeerror.js:94:13)\\n    at BlockchainDouble.processBlock (C:\\\\Program Files\\\\WindowsApps\\\\GanacheUI_2.5.4.0_x64__5dg5pnz03psnj\\\\app\\\\resources\\\\static\\\\node\\\\node_modules\\\\ganache-core\\\\lib\\\\blockchain_double.js:627:24)\\n    at runMicrotasks (<anonymous>)\\n    at processTicksAndRejections (internal/process/task_queues.js:93:5)', 'name': 'RuntimeError'}}"
     ]
    }
   ],
   "source": [
    "clinic1 = clinic(0)\n",
    "clinic1.set_signing_key(clinic2.private_key)\n",
    "clinic1.add_new_patient('name: pat01', 'age: 20', 'weight: 150 kg', 'height: 100 cm', 'sex: M', 'blood_preasure: 110 pb', 'pulse: 200 gh') #0"
   ]
  },
  {
   "cell_type": "markdown",
   "metadata": {},
   "source": [
    "VS\n"
   ]
  },
  {
   "cell_type": "code",
   "execution_count": 46,
   "metadata": {},
   "outputs": [
    {
     "name": "stdout",
     "output_type": "stream",
     "text": [
      "original data:  name: pat01 # age: 20 # weight: 150 kg # height: 100 cm # sex: M # blood_preasure: 110 pb # pulse: 200 gh # 13/06/2022 22:49:44 # patient registeration\n",
      "\n",
      "enc data:  b'gAAAAABip6LoO1ZR7hZqPwUYHlJgDMHmBUOuxtzW-ZW6Igg2cZO5dDLGO86SGOw2GFh0fyalA2G5nVzM_Td9oediIKJA0IuDPTv8cErTKSLqTBzBIPaV4GnaDVi9KGQ0UMRR-f0Iiqf5w0kNM_FiUdpJN-to0CxVfFfhk7F2UTc3WwttgBE73SBRQb3brIQBoBYtsrTk4Y0GF1ICP9sB8Vn9qX4cbvlaVcAnCMBGsw0EEnrN7cvT5cSD1Ipqd1a0VeW4dDY5wVJQv2bpQFc6fP5YvUejQRUHWQ=='\n",
      "\n",
      "packet:  3#gAAAAABip6LoO1ZR7hZqPwUYHlJgDMHmBUOuxtzW-ZW6Igg2cZO5dDLGO86SGOw2GFh0fyalA2G5nVzM_Td9oediIKJA0IuDPTv8cErTKSLqTBzBIPaV4GnaDVi9KGQ0UMRR-f0Iiqf5w0kNM_FiUdpJN-to0CxVfFfhk7F2UTc3WwttgBE73SBRQb3brIQBoBYtsrTk4Y0GF1ICP9sB8Vn9qX4cbvlaVcAnCMBGsw0EEnrN7cvT5cSD1Ipqd1a0VeW4dDY5wVJQv2bpQFc6fP5YvUejQRUHWQ==\n",
      "\n",
      "success, patient id:  3\n",
      "////////////////////////////////////\n"
     ]
    }
   ],
   "source": [
    "clinic1.set_signing_key(clinic1.private_key)\n",
    "clinic1.add_new_patient('name: pat01', 'age: 20', 'weight: 150 kg', 'height: 100 cm', 'sex: M', 'blood_preasure: 110 pb', 'pulse: 200 gh') #0"
   ]
  },
  {
   "cell_type": "markdown",
   "metadata": {},
   "source": [
    "### integerity"
   ]
  },
  {
   "cell_type": "markdown",
   "metadata": {},
   "source": [
    "To check for non-repudation and message integerity, the smart contract takes the message in the transaction then hashes and signes it in a special way to then be able to retrive the transaction sender address with the use of the signed messge that is also sent. if the the key used to sign the messga eis not correct or the the messga ehas ben altered, the retrived sender wont match the address accociated with the transaction and it will revret the transaction. to test this replace the packet argument in (packet, signed_message[0], signed_message[1], signed_message[2]) of any transaction that is sent with any string (\"hello world\") and the smart contract will revert. "
   ]
  }
 ],
 "metadata": {
  "interpreter": {
   "hash": "1726da39a520f1c3d94806386726273a17ac38360a99c45b9d4d4a09414e9317"
  },
  "kernelspec": {
   "display_name": "Python 3.9.7 ('base')",
   "language": "python",
   "name": "python3"
  },
  "language_info": {
   "codemirror_mode": {
    "name": "ipython",
    "version": 3
   },
   "file_extension": ".py",
   "mimetype": "text/x-python",
   "name": "python",
   "nbconvert_exporter": "python",
   "pygments_lexer": "ipython3",
   "version": "3.9.7"
  },
  "orig_nbformat": 4
 },
 "nbformat": 4,
 "nbformat_minor": 2
}
