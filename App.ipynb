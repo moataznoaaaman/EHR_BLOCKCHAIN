{
 "cells": [
  {
   "cell_type": "code",
   "execution_count": 342,
   "metadata": {},
   "outputs": [],
   "source": [
    "import hmac\n",
    "import hashlib\n",
    "import base64\n",
    "msg = 'ana weza'\n",
    "msg = msg.encode()\n",
    "dig = hmac.new(b'1234567890', msg=msg, digestmod=hashlib.sha256).digest()\n",
    "base64.b64encode(dig).decode()      # py3k-mode\n",
    "import json\n",
    "from web3 import Web3, HTTPProvider\n",
    "from web3.contract import ConciseContract\n",
    "from cryptography.fernet import Fernet\n",
    "import pickle\n",
    "from datetime import datetime\n",
    "from eth_account.messages import encode_defunct\n",
    "import threading"
   ]
  },
  {
   "cell_type": "markdown",
   "metadata": {},
   "source": [
    "## publishing the contract"
   ]
  },
  {
   "cell_type": "code",
   "execution_count": 426,
   "metadata": {},
   "outputs": [
    {
     "name": "stdout",
     "output_type": "stream",
     "text": [
      "True\n",
      "0x7b48ca61e90bcf7fbd33d2976f87e3a4dfe1ec98517d67347cd84fec02caaa29\n",
      "Contract Deployed At: 0x19ad2458b793256b3cBB39d0D0Bb44873652F1E1\n"
     ]
    }
   ],
   "source": [
    "# web3.py instance\n",
    "w3 = Web3(HTTPProvider(\"HTTP://127.0.0.1:7545\"))\n",
    "print(w3.isConnected())\n",
    "\n",
    "key=\"332a4857af5d050825cc0b6572e00695078731c2877288be4e3c9daf9c8c2d87\"\n",
    "acct = w3.eth.account.privateKeyToAccount(key)\n",
    "\n",
    "# compile your smart contract with truffle first\n",
    "truffleFile = json.load(open(r'C:\\Users\\mo7amad mo3taz\\Desktop\\security project\\python_edition\\pythonDapp\\build\\contracts\\Greeter.json'))\n",
    "abi = truffleFile['abi']\n",
    "bytecode = truffleFile['bytecode']\n",
    "contract= w3.eth.contract(bytecode=bytecode, abi=abi)\n",
    "\n",
    "#building transaction\n",
    "construct_txn = contract.constructor().buildTransaction({\n",
    "    'from': acct.address,\n",
    "    'nonce': w3.eth.getTransactionCount(acct.address),\n",
    "    'gas': 3000000,\n",
    "    'gasPrice': w3.toWei('21', 'gwei')})\n",
    "\n",
    "signed = acct.signTransaction(construct_txn)\n",
    "\n",
    "tx_hash=w3.eth.sendRawTransaction(signed.rawTransaction)\n",
    "print(tx_hash.hex())\n",
    "tx_receipt = w3.eth.waitForTransactionReceipt(tx_hash)\n",
    "contract_address = tx_receipt['contractAddress']\n",
    "print(\"Contract Deployed At:\", tx_receipt['contractAddress'])\n"
   ]
  },
  {
   "cell_type": "markdown",
   "metadata": {},
   "source": [
    "### getting a contract instance"
   ]
  },
  {
   "cell_type": "code",
   "execution_count": 427,
   "metadata": {},
   "outputs": [
    {
     "name": "stdout",
     "output_type": "stream",
     "text": [
      "True\n",
      "Hello\n"
     ]
    }
   ],
   "source": [
    "truffleFile = json.load(open(r'C:\\Users\\mo7amad mo3taz\\Desktop\\security project\\python_edition\\pythonDapp\\build\\contracts\\Greeter.json'))\n",
    "abi = truffleFile['abi']\n",
    "bytecode = truffleFile['bytecode']\n",
    "\n",
    "w3 = Web3(HTTPProvider(\"HTTP://127.0.0.1:7545\")) #modify\n",
    "print(w3.isConnected())\n",
    "contract_address = Web3.toChecksumAddress(contract_address) #modify\n",
    "contract = w3.eth.contract(abi=abi, bytecode=bytecode)\n",
    "contract_instance = w3.eth.contract(abi=abi, address=contract_address)\n",
    "print(contract_instance.functions.greet().call())"
   ]
  },
  {
   "cell_type": "markdown",
   "metadata": {},
   "source": [
    "### defining the clinic entity"
   ]
  },
  {
   "cell_type": "code",
   "execution_count": 389,
   "metadata": {},
   "outputs": [],
   "source": [
    "def load_enc_key(enc_path):\n",
    "        with open(enc_path, \"rb\") as infile:\n",
    " \t         return pickle.load(infile)\n",
    "\n",
    "def load_count(count_path):\n",
    "        with open(count_path, \"rb\") as infile:\n",
    " \t         return pickle.load(infile)\n",
    "\n",
    "def write_count(path, count):\n",
    "        with open(path, \"wb\") as outfile:\n",
    " \t# \"wb\" argument opens the file in binary mode\n",
    "\t        pickle.dump(count, outfile)"
   ]
  },
  {
   "cell_type": "code",
   "execution_count": 390,
   "metadata": {},
   "outputs": [],
   "source": [
    "def store_count(path,count):\n",
    "    with open(path, \"wb\") as outfile:\n",
    "\t    pickle.dump(count, outfile)\n",
    "    \n",
    "def to_32byte_hex(val):\n",
    "   return Web3.toHex(Web3.toBytes(val).rjust(32, b'\\0'))"
   ]
  },
  {
   "cell_type": "code",
   "execution_count": 432,
   "metadata": {},
   "outputs": [],
   "source": [
    "class clinic:\n",
    "    def __init__ (self,clinic_num):\n",
    "        \n",
    "        if clinic_num == 0:\n",
    "            self.address = '0x3ba20A3D2b870BC377F47AE68dAE0845ed2c2fF4'\n",
    "            self.private_key = '150114451a67123aeb55ca8f37bbe719b6eabb7bb29923596b643c74abe83d16'\n",
    "            self.enc_key = load_enc_key(r'C:\\Users\\mo7amad mo3taz\\Desktop\\security project\\python_edition\\c1_enc.pickle')\n",
    "            self.count_path = r'C:\\Users\\mo7amad mo3taz\\Desktop\\security project\\python_edition\\c1_count.pickle'\n",
    "            self.patient_count = load_count(self.count_path)\n",
    "            self.v_vount_path = r'C:\\Users\\mo7amad mo3taz\\Desktop\\security project\\python_edition\\c1_v_count.pickle'\n",
    "            self.v_count = load_count(self.count_path)\n",
    "\n",
    "        elif clinic_num == 1:\n",
    "            self.address = '0x255d58708D85b74fF56Fd2ba31BA23E04bd83163'\n",
    "            self.private_key = 'c6bed74a4d13163f280f8bd60c6d6f40428ee86eccb681689c74d30883b4abde'\n",
    "            self.enc_key = load_enc_key(r'C:\\Users\\mo7amad mo3taz\\Desktop\\security project\\python_edition\\c2_enc.pickle')\n",
    "            self.count_path = r'C:\\Users\\mo7amad mo3taz\\Desktop\\security project\\python_edition\\c2_count.pickle'\n",
    "            self.patient_count = load_count(self.count_path)\n",
    "            self.v_vount_path = r'C:\\Users\\mo7amad mo3taz\\Desktop\\security project\\python_edition\\c2_v_count.pickle'\n",
    "            self.v_count = load_count(self.count_path)\n",
    "\n",
    "        else:\n",
    "            self.address = '0x1216Fb7CA180FBCAb13593c69acFcA2F1AAd0fAD'\n",
    "            self.private_key = '332a4857af5d050825cc0b6572e00695078731c2877288be4e3c9daf9c8c2d87'\n",
    "            self.enc_key = load_enc_key(r'C:\\Users\\mo7amad mo3taz\\Desktop\\security project\\python_edition\\c3_enc.pickle')\n",
    "            self.count_path = r'C:\\Users\\mo7amad mo3taz\\Desktop\\security project\\python_edition\\c3_count.pickle'\n",
    "            self.patient_count = load_count(self.count_path)\n",
    "            self.v_vount_path = r'C:\\Users\\mo7amad mo3taz\\Desktop\\security project\\python_edition\\c3_v_count.pickle'\n",
    "            self.v_count = load_count(self.count_path)\n",
    "\n",
    "        self.encrypter_decrypter = Fernet(self.enc_key)\n",
    "        \n",
    "\n",
    "\n",
    "    def sign_packet(self, packet):\n",
    "        msgHash = Web3.keccak(text = packet)\n",
    "        msgHash = encode_defunct(msgHash)\n",
    "        signed_message = w3.eth.account.sign_message(msgHash, private_key=self.private_key)\n",
    "        # print('signed_message: ',type(signed_message))\n",
    "        return (signed_message.v, to_32byte_hex(signed_message.r), to_32byte_hex(signed_message.s))\n",
    "\n",
    "    def add_new_patient(self, name, age, weight, height, sex, blood_p, pulse):\n",
    "        now = datetime.now()\n",
    "        dt_string = now.strftime(\"%d/%m/%Y %H:%M:%S\") # time_stamp\n",
    "        data = name +\" # \"+ age +\" # \"+ weight +\" # \"+ height +\" # \"+ sex +\" # \"+ blood_p +\" # \"+ pulse + \" # \" + dt_string\n",
    "        data_enc = self.encrypter_decrypter.encrypt(data.encode())\n",
    "        # print('original data: ',data)\n",
    "        # print()\n",
    "        # print('enc data: ',data_enc)\n",
    "        # print()\n",
    "        packet = str(self.patient_count)+ \"#\" + data_enc.decode('utf-8')\n",
    "        self.patient_count +=1\n",
    "        write_count(self.count_path,self.patient_count)\n",
    "        # print('packet: ',packet)\n",
    "        # print()\n",
    "        signed_message = self.sign_packet(packet)\n",
    "        hashed_message = Web3.keccak(text = packet)\n",
    "        # print('hashed message: ',hashed_message)\n",
    "        # print()\n",
    "        tx_hash = contract_instance.functions.add_patient(packet, hashed_message, signed_message[0], signed_message[1], signed_message[2]).transact({\n",
    "            'from': self.address,\n",
    "            'nonce': w3.eth.getTransactionCount(self.address),\n",
    "            'gas': 1728712,\n",
    "            'gasPrice': w3.toWei('21', 'gwei')})\n",
    "        w3.eth.waitForTransactionReceipt(tx_hash)\n",
    "        # print('response: {}'.format(\n",
    "        #     contract_instance.functions.greet().call()\n",
    "        # ))\n",
    "        print(\"success, patient id: \", self.patient_count-1)\n",
    "        print('////////////////////////////////////')\n",
    "\n",
    "    def regular_visit(self, patient_id, blood_p, pulse, reason, presc, follow_up):\n",
    "            now = datetime.now()\n",
    "            dt_string = now.strftime(\"%d/%m/%Y %H:%M:%S\") # time_stamp\n",
    "            data = blood_p +\" # \"+ pulse +\" # \"+ reason +\" # \"+ presc +\" # \"+ follow_up + \" # \" + dt_string + \" # \" + str(self.v_count)\n",
    "            data_enc = self.encrypter_decrypter.encrypt(data.encode())\n",
    "            print('original data: ',data)\n",
    "            print()\n",
    "            print('enc data: ',data_enc)\n",
    "            print()\n",
    "            packet = str(patient_id)+ \"#\" + data_enc.decode('utf-8')\n",
    "            print('packet: ',packet)\n",
    "            print()\n",
    "            signed_message = self.sign_packet(packet)\n",
    "            hashed_message = Web3.keccak(text = packet)\n",
    "            print('hashed message: ',hashed_message)\n",
    "            print()\n",
    "            tx_hash = contract_instance.functions.add_reg_visit(packet, hashed_message, signed_message[0], signed_message[1], signed_message[2]).transact({\n",
    "                'from': self.address,\n",
    "                'nonce': w3.eth.getTransactionCount(self.address),\n",
    "                'gas': 1728712,\n",
    "                'gasPrice': w3.toWei('21', 'gwei')})\n",
    "            w3.eth.waitForTransactionReceipt(tx_hash)\n",
    "            # print('response: {}'.format(\n",
    "            # contract_instance.functions.greet().call()\n",
    "            # ))\n",
    "            print('////////////////////////////////////')\n",
    "            self.v_count+=1\n",
    "            write_count(self.v_vount_path,self.v_count)\n",
    "\n",
    "    def lab_visit(self, patient_id, blood_p, pulse, lab_test_typr, lab_test_result):\n",
    "        now = datetime.now()\n",
    "        dt_string = now.strftime(\"%d/%m/%Y %H:%M:%S\") # time_stamp\n",
    "        data = blood_p +\" # \"+ pulse +\" # \"+ lab_test_typr +\" # \"+ lab_test_result + \" # \" + dt_string + \" # \" + str(self.v_count)\n",
    "        data_enc = self.encrypter_decrypter.encrypt(data.encode())\n",
    "        print('original data: ',data)\n",
    "        print()\n",
    "        print('enc data: ',data_enc)\n",
    "        print()\n",
    "        packet = str(patient_id)+ \"#\" +data_enc.decode('utf-8')\n",
    "        print('packet: ',packet)\n",
    "        print()\n",
    "        signed_message = self.sign_packet(packet)\n",
    "        hashed_message = Web3.keccak(text = packet)\n",
    "        print('hashed message: ',hashed_message)\n",
    "        print()\n",
    "        tx_hash = contract_instance.functions.add_lab_visit(packet, hashed_message, signed_message[0], signed_message[1], signed_message[2]).transact({\n",
    "            'from': self.address,\n",
    "            'nonce': w3.eth.getTransactionCount(self.address),\n",
    "            'gas': 1728712,\n",
    "            'gasPrice': w3.toWei('21', 'gwei')})\n",
    "        w3.eth.waitForTransactionReceipt(tx_hash)\n",
    "        # print('response: {}'.format(\n",
    "        #     contract_instance.functions.greet().call()\n",
    "        # ))\n",
    "        print('////////////////////////////////////')\n",
    "        self.v_count+=1\n",
    "        write_count(self.v_vount_path,self.v_count)\n",
    "\n",
    "    def view_records(self, patient_id):\n",
    "        \n",
    "        packet = patient_id\n",
    "        # print('packet: ',packet)\n",
    "        # print()\n",
    "        signed_message = self.sign_packet(packet)\n",
    "        # print('signed message: ', signed_message)\n",
    "        # print()\n",
    "        hashed_message = Web3.keccak(text = packet)\n",
    "        # print('hashed message: ',hashed_message)\n",
    "        # print()\n",
    "        tx_hash = contract_instance.functions.define_records(packet, hashed_message, signed_message[0], signed_message[1], signed_message[2]).transact({\n",
    "            'from': self.address,\n",
    "            'nonce': w3.eth.getTransactionCount(self.address),\n",
    "            'gas': 1728712,\n",
    "            'gasPrice': w3.toWei('21', 'gwei')})\n",
    "        w3.eth.waitForTransactionReceipt(tx_hash)\n",
    "        all_records = contract_instance.functions.retrive_records().call()\n",
    "        result = []\n",
    "        for record in all_records:\n",
    "            hed_dat = record.split(\"#\")\n",
    "            # print(hed_dat)\n",
    "            if hed_dat[0] == patient_id:\n",
    "                decrypted = self.encrypter_decrypter.decrypt(hed_dat[1].encode('utf-8'))\n",
    "                result.append(decrypted.decode())\n",
    "        print('records')\n",
    "        print(result)\n",
    "\n",
    "    def eval_view_all_records(self):\n",
    "        all_records = contract_instance.functions.retrive_records1().call()\n",
    "        print('clinic1 records:')\n",
    "        for record in all_records:\n",
    "            print(record)\n",
    "            print()\n",
    "        print()\n",
    "        all_records = contract_instance.functions.retrive_records2().call()\n",
    "        print('clinic2 records:')\n",
    "        for record in all_records:\n",
    "            print(record)\n",
    "            print()\n",
    "        print()\n",
    "        all_records = contract_instance.functions.retrive_records3().call()\n",
    "        print('clinic3 records:')\n",
    "        for record in all_records:\n",
    "            print(record)\n",
    "            print()\n",
    "            \n",
    "                \n",
    "        \n"
   ]
  },
  {
   "cell_type": "code",
   "execution_count": 436,
   "metadata": {},
   "outputs": [],
   "source": [
    "def simulate_clinic1():\n",
    "    c = clinic(0)\n",
    "    c.add_new_patient('pat01', '20', '150 kg', '100 cm', 'M', '110 pb', '200 gh') #0\n",
    "    c.add_new_patient('pat02', '21', '140 kg', '110 cm', 'f', '110 pb', '200 gh') #1\n",
    "    c.regular_visit('0','55/120', '333', 'sick', 'panadol', 'non')\n",
    "    c.lab_visit('1','55/80', '105', 'pcr', 'negative' )\n",
    "    c.lab_visit('0','55/80', '105', 'pcr', 'positive' )"
   ]
  },
  {
   "cell_type": "code",
   "execution_count": 435,
   "metadata": {},
   "outputs": [],
   "source": [
    "def simulate_clinic2():\n",
    "    c = clinic(1)\n",
    "    c.add_new_patient('pat1', '20', '150 kg', '100 cm', 'M', '110 pb', '200 gh') #0\n",
    "    c.add_new_patient('pat2', '21', '140 kg', '110 cm', 'f', '110 pb', '200 gh') #1\n",
    "    c.regular_visit('0','55/120', '333', 'sick', 'panadol', 'non')\n",
    "    c.lab_visit('1','55/80', '105', 'pcr', 'negative' )\n",
    "    c.lab_visit('0','55/80', '105', 'pcr', 'positive' )"
   ]
  },
  {
   "cell_type": "code",
   "execution_count": 434,
   "metadata": {},
   "outputs": [],
   "source": [
    "def simulate_clinic3():\n",
    "    c = clinic(2)\n",
    "    c.add_new_patient('pat3', '50', '150 kg', '100 cm', 'M', '110 pb', '200 gh') #0\n",
    "    c.add_new_patient('pat4', '60', '140 kg', '110 cm', 'f', '110 pb', '200 gh') #1\n",
    "    c.regular_visit('0','55/120', '333', 'sick', 'sinovac', 'non')\n",
    "    c.lab_visit('1','55/80', '105', 'blood_test', 'infected' )\n",
    "    c.lab_visit('0','55/80', '105', 'blood_test', 'negative' )"
   ]
  },
  {
   "cell_type": "markdown",
   "metadata": {},
   "source": [
    "### simulating multiple clinics simutaniously "
   ]
  },
  {
   "cell_type": "code",
   "execution_count": null,
   "metadata": {},
   "outputs": [],
   "source": [
    "\n",
    "t2 = threading.Thread(target=simulate_clinic1, args=())\n",
    "t3 = threading.Thread(target=simulate_clinic3, args=())\n",
    "t2.start()\n",
    "t3.start()"
   ]
  },
  {
   "cell_type": "code",
   "execution_count": 439,
   "metadata": {},
   "outputs": [
    {
     "name": "stdout",
     "output_type": "stream",
     "text": [
      "records\n",
      "['pat3 # 50 # 150 kg # 100 cm # M # 110 pb # 200 gh # 11/06/2022 18:12:09']\n"
     ]
    }
   ],
   "source": [
    "c = clinic(2)\n",
    "c.view_records('8')"
   ]
  },
  {
   "cell_type": "code",
   "execution_count": null,
   "metadata": {},
   "outputs": [],
   "source": [
    "c = clinic(0)\n",
    "c.eval_view_all_records()"
   ]
  }
 ],
 "metadata": {
  "interpreter": {
   "hash": "63fd5069d213b44bf678585dea6b12cceca9941eaf7f819626cde1f2670de90d"
  },
  "kernelspec": {
   "display_name": "Python 3.9.2 64-bit",
   "language": "python",
   "name": "python3"
  },
  "language_info": {
   "codemirror_mode": {
    "name": "ipython",
    "version": 3
   },
   "file_extension": ".py",
   "mimetype": "text/x-python",
   "name": "python",
   "nbconvert_exporter": "python",
   "pygments_lexer": "ipython3",
   "version": "3.9.7"
  },
  "orig_nbformat": 4
 },
 "nbformat": 4,
 "nbformat_minor": 2
}
